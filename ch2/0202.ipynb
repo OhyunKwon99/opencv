{
 "cells": [
  {
   "cell_type": "code",
   "execution_count": 9,
   "metadata": {},
   "outputs": [],
   "source": [
    "import cv2\n",
    "import numpy as np\n",
    "import sys"
   ]
  },
  {
   "cell_type": "markdown",
   "metadata": {},
   "source": [
    "마스크 연산을 이용하여 이미지 합성하는 방법\n"
   ]
  },
  {
   "cell_type": "code",
   "execution_count": 10,
   "metadata": {},
   "outputs": [],
   "source": [
    "src = cv2.imread('airplane.bmp', cv2.IMREAD_COLOR)\n",
    "mask = cv2.imread('mask_plane.bmp', cv2.IMREAD_GRAYSCALE)\n",
    "\n",
    "dst = cv2.imread('field.bmp', cv2.IMREAD_COLOR)"
   ]
  },
  {
   "cell_type": "markdown",
   "metadata": {},
   "source": [
    "필요한 image data들 불러옴"
   ]
  },
  {
   "cell_type": "code",
   "execution_count": 11,
   "metadata": {},
   "outputs": [
    {
     "data": {
      "text/plain": [
       "array([[[203, 199, 207],\n",
       "        [199, 200, 208],\n",
       "        [202, 201, 211],\n",
       "        ...,\n",
       "        [198, 190, 194],\n",
       "        [195, 188, 190],\n",
       "        [193, 184, 189]],\n",
       "\n",
       "       [[203, 199, 207],\n",
       "        [204, 198, 207],\n",
       "        [200, 199, 209],\n",
       "        ...,\n",
       "        [173, 157, 148],\n",
       "        [170, 156, 143],\n",
       "        [184, 173, 166]],\n",
       "\n",
       "       [[203, 196, 208],\n",
       "        [204, 196, 208],\n",
       "        [203, 198, 208],\n",
       "        ...,\n",
       "        [152, 129, 109],\n",
       "        [151, 121, 108],\n",
       "        [148, 126,  97]],\n",
       "\n",
       "       ...,\n",
       "\n",
       "       [[ 51,  29,  15],\n",
       "        [ 49,  32,  29],\n",
       "        [ 49,  49,  61],\n",
       "        ...,\n",
       "        [ 45,  62,  38],\n",
       "        [ 46,  75,  56],\n",
       "        [ 40, 110, 100]],\n",
       "\n",
       "       [[ 50,  26,  11],\n",
       "        [ 50,  45,  54],\n",
       "        [ 47,  44,  50],\n",
       "        ...,\n",
       "        [ 49,  56,  35],\n",
       "        [ 47,  61,  42],\n",
       "        [ 44,  77,  64]],\n",
       "\n",
       "       [[ 50,  42,  52],\n",
       "        [ 46,  71, 108],\n",
       "        [ 47,  56,  58],\n",
       "        ...,\n",
       "        [ 50,  42,  23],\n",
       "        [ 48,  61,  41],\n",
       "        [ 47,  62,  46]]], dtype=uint8)"
      ]
     },
     "execution_count": 11,
     "metadata": {},
     "output_type": "execute_result"
    }
   ],
   "source": [
    "cv2.copyTo(src, mask, dst)\n",
    "#dst = cv2.copyTo(src, mask)\n"
   ]
  },
  {
   "cell_type": "markdown",
   "metadata": {},
   "source": [
    "src, dst 는 color type이 같아야 하고 mask는 무조건 grayscale\n",
    "\n",
    "copyto에 src, mask, dst가 모두 인가 된다면 'src' 중 'masking' 된 부분이 겹쳐지면서 올라간다.\n",
    "\n",
    "아니라면 'src' 중 'masking'으로 분리된 부분만 출력된다."
   ]
  },
  {
   "cell_type": "code",
   "execution_count": 12,
   "metadata": {},
   "outputs": [],
   "source": [
    "dst[mask > 0] = src[mask > 0]"
   ]
  },
  {
   "cell_type": "markdown",
   "metadata": {},
   "source": [
    "또 다른 방법에는 mask의 영역값(인덱스들)과 동일한 부분의 src영역의 값들을 dst의 동일한 영역에 넣어줄 수있다.\n",
    "\n",
    "이 방법은 copy가 아닌 동일한 메모리에 있는 정보에 인덱싱 하는것이라\n",
    "\n",
    "dst 파일 자체의 값이 변하게 된다."
   ]
  },
  {
   "cell_type": "code",
   "execution_count": 13,
   "metadata": {},
   "outputs": [],
   "source": [
    "cv2.imshow('src', src)\n",
    "cv2.imshow('mask', mask)\n",
    "cv2.imshow('dst', dst)\n",
    "\n",
    "cv2.waitKey()\n",
    "cv2.destroyAllWindows()"
   ]
  },
  {
   "cell_type": "code",
   "execution_count": 14,
   "metadata": {},
   "outputs": [
    {
     "name": "stdout",
     "output_type": "stream",
     "text": [
      "(222, 180, 4)\n"
     ]
    }
   ],
   "source": [
    "src = cv2.imread('opencv-logo-white.png', cv2.IMREAD_UNCHANGED)\n",
    "print(src.shape)"
   ]
  },
  {
   "cell_type": "markdown",
   "metadata": {},
   "source": [
    "새롭게 src지정, 이 파일은 4ch로써 마지막에 alpha channel을 가지게 된다.\n",
    "(222, 180, 4)"
   ]
  },
  {
   "cell_type": "code",
   "execution_count": 15,
   "metadata": {},
   "outputs": [],
   "source": [
    "mask = src[:, :, -1]\n",
    "src = src[:, :, 0:3]\n",
    "dst = cv2.imread('field.bmp', cv2.IMREAD_COLOR)\n",
    "\n",
    "h, w = src.shape[:2] \n",
    "dst_h, dst_w = dst.shape[:2]\n",
    "crop = dst[(dst_h-h):(dst_h), (dst_w-w):(dst_w)]"
   ]
  },
  {
   "cell_type": "markdown",
   "metadata": {},
   "source": [
    "src의 마지막 alpha ch을 mask기준값으로 사용하고\n",
    "\n",
    "마지막 4채널을 제외한 color이미지를 src이미지로 사용한다.\n",
    "\n",
    "copyto 를 통해 이미지를 합성하기 위해서 입력 이미지들의 크기가 동일해야한다. \n",
    "\n",
    "crop필요하다. 일부분의 data를 crop이란 변수로 공유한다.\n",
    "\n"
   ]
  },
  {
   "cell_type": "code",
   "execution_count": 19,
   "metadata": {},
   "outputs": [],
   "source": [
    "cv2.copyTo(src, mask, crop)\n",
    "cv2.imshow('crop', dst)\n",
    "\n",
    "cv2.waitKey()\n",
    "cv2.destroyAllWindows()"
   ]
  },
  {
   "cell_type": "markdown",
   "metadata": {},
   "source": [
    "crop을 통해 dst의 일부를 참조하였고 그 data로 copyto를 진행하였기 때문에\n",
    "\n",
    "결국에 dst까지도 변경되어서 최종출력을 dst로 해도 가능하다"
   ]
  },
  {
   "cell_type": "code",
   "execution_count": null,
   "metadata": {},
   "outputs": [],
   "source": []
  }
 ],
 "metadata": {
  "kernelspec": {
   "display_name": "Python 3.9.12 ('Pytorch')",
   "language": "python",
   "name": "python3"
  },
  "language_info": {
   "codemirror_mode": {
    "name": "ipython",
    "version": 3
   },
   "file_extension": ".py",
   "mimetype": "text/x-python",
   "name": "python",
   "nbconvert_exporter": "python",
   "pygments_lexer": "ipython3",
   "version": "3.9.12"
  },
  "orig_nbformat": 4,
  "vscode": {
   "interpreter": {
    "hash": "49418117e3467ad040f328a538709f0a31be17b9d7cca48f864682de9e3fed76"
   }
  }
 },
 "nbformat": 4,
 "nbformat_minor": 2
}
