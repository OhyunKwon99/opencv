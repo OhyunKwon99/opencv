{
 "cells": [
  {
   "cell_type": "code",
   "execution_count": 31,
   "metadata": {},
   "outputs": [],
   "source": [
    "import numpy as np\n",
    "import cv2\n",
    "\n",
    "# make new video\n",
    "img1 = np.empty((240, 320), dtype = np.uint8) \n",
    "\n",
    "img2 = np.zeros((240, 320, 3), dtype = np.uint8) + 255\n",
    "img3 = np.ones((240, 320, 3), dtype = np.uint8) *255\n",
    "## def ones(shape, dtype=None, order='C', *, like=None):\n",
    "img4 = np.full((240, 320, 3), (0, 255, 255), dtype = np.uint8)\n",
    "## def full(shape, fill_value, dtype=None, order='C', *, like=None):\n",
    "\n",
    "cv2.imshow(\"empty\",img1)\n",
    "cv2.imshow(\"zeros\",img2)\n",
    "cv2.imshow(\"ones\",img3)\n",
    "cv2.imshow(\"full\",img4)\n",
    "if cv2.waitKey() == 27:\n",
    "    cv2.destroyAllWindows()"
   ]
  },
  {
   "cell_type": "markdown",
   "metadata": {},
   "source": [
    "img1 같은 경우 빈 array를 반환하고 size에 해당하는 자리만 선언되어있음 \n",
    "<br/> 1 자동으로 grayscale인 img를 담는 형태로 출력하게 됨\n",
    "\n",
    "<br/> 234 channel이 추가된 형태로 0이 담긴 array color image 담을 수 있음\n",
    "\n",
    "ones , zeros 로 선언된 array 같은 경우는 그 자체로 1, 0 값을 다 가지고 있어서 단순 연산을 해줄 수 있음\n",
    "\n",
    "ones, zeros에는 없는 fill_value란이 full에는 있어서 바로 BGR 값 전해줄 수 있음\n"
   ]
  },
  {
   "cell_type": "code",
   "execution_count": 32,
   "metadata": {},
   "outputs": [
    {
     "name": "stdout",
     "output_type": "stream",
     "text": [
      "64 86\n"
     ]
    }
   ],
   "source": [
    "imgf = cv2.imread('HappyFish.jpg')\n",
    "cv2.imwrite('HappyFish.bmp', imgf)\n",
    "roi = imgf.shape[:2]/(np.array(3))\n",
    "\n",
    "def setRoi (img, roi):\n",
    "    roi = [int(item) for item in roi]\n",
    "    roi_h = roi[0]\n",
    "    roi_w = roi[1]\n",
    "    print(roi_h, roi_w)\n",
    "    return img[roi_h:(2*roi_h), roi_w:(2*roi_w)]\n",
    "\n",
    "\n",
    "cv2.namedWindow('roi', cv2.WINDOW_AUTOSIZE)\n",
    "cv2.setWindowProperty('roi', \n",
    "                      cv2.WND_PROP_AUTOSIZE, \n",
    "                      cv2.WINDOW_AUTOSIZE)\n",
    "\n",
    "cv2.imshow('roi',setRoi(imgf,roi))\n",
    "cv2.imshow('imgf',imgf)\n",
    "if cv2.waitKey() == 27:\n",
    "    cv2.destroyAllWindows()"
   ]
  },
  {
   "cell_type": "markdown",
   "metadata": {},
   "source": [
    "위에는 roi설정해보는 그냥 코드"
   ]
  },
  {
   "cell_type": "code",
   "execution_count": 33,
   "metadata": {},
   "outputs": [],
   "source": [
    "img1 = cv2.imread('HappyFish.bmp')\n",
    "img2 = img1"
   ]
  },
  {
   "cell_type": "markdown",
   "metadata": {},
   "source": [
    "위와같은경우 참조연산으로 메모리에 저장된 하나의 data를 두개의 포인터변수가 동일한 주소를 가르키고 있는꼴"
   ]
  },
  {
   "cell_type": "code",
   "execution_count": 34,
   "metadata": {},
   "outputs": [],
   "source": [
    "img2 = img1[40:120, 30:150]\n",
    "img3 = img1[40:120, 30:150].copy()\n",
    "\n",
    "##img2[:,:] = (0, 255, 0)\n",
    "##원그리기\n",
    "cv2.circle(img2, \n",
    "           center= [int(item/2) for item in img2.shape[:2]],\n",
    "           radius= 10, \n",
    "           color= (255, 0, 0),\n",
    "           thickness= 3,\n",
    "           lineType= cv2.LINE_AA)\n",
    "cv2.imshow('1',img1)\n",
    "cv2.imshow('2',img2)\n",
    "cv2.imshow('3',img3)\n",
    "\n",
    "if cv2.waitKey() == 27:\n",
    "    cv2.destroyAllWindows()"
   ]
  },
  {
   "cell_type": "markdown",
   "metadata": {},
   "source": [
    "위의 성질을 이용해서 기존이미지의 일부에 접근하여 원본을 수정할 수 있다."
   ]
  },
  {
   "cell_type": "code",
   "execution_count": null,
   "metadata": {},
   "outputs": [],
   "source": []
  }
 ],
 "metadata": {
  "kernelspec": {
   "display_name": "Python 3.9.12 ('Pytorch')",
   "language": "python",
   "name": "python3"
  },
  "language_info": {
   "codemirror_mode": {
    "name": "ipython",
    "version": 3
   },
   "file_extension": ".py",
   "mimetype": "text/x-python",
   "name": "python",
   "nbconvert_exporter": "python",
   "pygments_lexer": "ipython3",
   "version": "3.9.12"
  },
  "orig_nbformat": 4,
  "vscode": {
   "interpreter": {
    "hash": "49418117e3467ad040f328a538709f0a31be17b9d7cca48f864682de9e3fed76"
   }
  }
 },
 "nbformat": 4,
 "nbformat_minor": 2
}
