{
 "cells": [
  {
   "cell_type": "code",
   "execution_count": 2,
   "metadata": {},
   "outputs": [
    {
     "name": "stdout",
     "output_type": "stream",
     "text": [
      "137.29013995911308\n",
      "137.01824186192798\n",
      "137.88781518949116\n",
      "48.02338634237605\n",
      "52.345494231368875\n",
      "141.5134156378601\n",
      "48.06457293806868\n"
     ]
    }
   ],
   "source": [
    "import sys\n",
    "import numpy as np\n",
    "import cv2\n",
    "\n",
    "##입력이미지 불러오기\n",
    "\n",
    "src = cv2.imread('coins2.jpg')\n",
    "\n",
    "if src is None :\n",
    "    print('Image load failed')\n",
    "    sys.exit()\n",
    "    \n",
    "gray = cv2.cvtColor(src, cv2.COLOR_BGR2GRAY)\n",
    "blr = cv2.GaussianBlur(gray, (0, 0), 1)\n",
    "\n",
    "circles = cv2.HoughCircles(blr, cv2.HOUGH_GRADIENT, 1, 50, \n",
    "                           param1 = 150, param2 = 40,\n",
    "                           minRadius=20, maxRadius=80)\n",
    "\n",
    "##param1 = cannyedge detection 에서 사용함\n",
    "\n",
    "money = 0\n",
    "dst = src.copy()\n",
    "if circles is not None:\n",
    "    for i in range(circles.shape[1]):\n",
    "        cx, cy, radius = (circles[0][i]).astype(dtype = 'uint16')\n",
    "        cv2.circle(dst, (cx, cy), radius, (0, 0, 255), 2, cv2.LINE_AA)\n",
    "        \n",
    "        # \n",
    "        x1 = int(cx - radius)\n",
    "        y1 = int(cy - radius)\n",
    "        x2 = int(cx + radius)\n",
    "        y2 = int(cy + radius)\n",
    "        \n",
    "        radius = int(radius)\n",
    "        \n",
    "        crop = src[y1:y2, x1:x2, :]\n",
    "        ch, cw = crop.shape[:2]\n",
    "        \n",
    "        mask = np.zeros((ch, cw), np.uint8)\n",
    "        cv2.circle(mask, (cw//2, ch//2), radius, 255, -1)\n",
    "        \n",
    "       \n",
    "        \n",
    "        #mask영역에서만 HUE 계산(40 쉬프트, 평균계산)\n",
    "        \n",
    "        hsv = cv2.cvtColor(crop, cv2.COLOR_BGR2HSV)\n",
    "        hue, _, _ = cv2.split(hsv)\n",
    "        hue_shift = ((hue+40) % 180) ##hue 최대값 180 더커지면 0으로\n",
    "        mean_of_hue = cv2.mean(hue_shift, mask)[0]\n",
    "        \n",
    "        print(mean_of_hue)\n",
    "        \n",
    "        cv2.imshow('crop', crop)\n",
    "        cv2.imshow('mask', mask)\n",
    "        cv2.waitKey()\n",
    "        \n",
    "        # Hue 평균이 90보다 작으면 10원, 90보다 크면 100원으로 간주\n",
    "        won = 100\n",
    "        if mean_of_hue < 90:\n",
    "            won = 10\n",
    "\n",
    "        money += won\n",
    "\n",
    "        cv2.putText(crop, str(won),     (20, 50), cv2.FONT_HERSHEY_SIMPLEX,\n",
    "                    0.75, (255, 0, 0), 2, cv2.LINE_AA)\n",
    "\n",
    "cv2.putText(dst, str(money) + ' won', (40, 80),\n",
    "            cv2.FONT_HERSHEY_DUPLEX, 2, (255, 0, 0), 2, cv2.LINE_AA)\n",
    "\n",
    "cv2.imshow('src', src)\n",
    "cv2.imshow('dst', dst)\n",
    "cv2.waitKey()\n",
    "\n",
    "cv2.destroyAllWindows()"
   ]
  }
 ],
 "metadata": {
  "kernelspec": {
   "display_name": "Python 3.9.13 64-bit (microsoft store)",
   "language": "python",
   "name": "python3"
  },
  "language_info": {
   "codemirror_mode": {
    "name": "ipython",
    "version": 3
   },
   "file_extension": ".py",
   "mimetype": "text/x-python",
   "name": "python",
   "nbconvert_exporter": "python",
   "pygments_lexer": "ipython3",
   "version": "3.9.13"
  },
  "orig_nbformat": 4,
  "vscode": {
   "interpreter": {
    "hash": "d7bf8dc84d119a067b15f6c4bcaf3e250daef9f2aba752dcef0089acd9af3fc7"
   }
  }
 },
 "nbformat": 4,
 "nbformat_minor": 2
}
