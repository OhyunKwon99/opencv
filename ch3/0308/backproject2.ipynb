{
 "cells": [
  {
   "cell_type": "code",
   "execution_count": 1,
   "metadata": {},
   "outputs": [],
   "source": [
    "from ast import If\n",
    "import sys\n",
    "import cv2\n",
    "import numpy as np\n",
    "\n",
    "src1 = cv2.imread('kids1.png')\n",
    "src2 = cv2.imread('kids2.png')\n",
    "mask = cv2.imread('kids1_mask.bmp', cv2.IMREAD_GRAYSCALE)\n",
    "if src1 is None or src2 is None or mask is None :\n",
    "    print('Image load failed!')\n",
    "    sys.exit()\n",
    "\n"
   ]
  },
  {
   "cell_type": "markdown",
   "metadata": {},
   "source": [
    "이미지 로드후 관심영역 지정"
   ]
  },
  {
   "cell_type": "code",
   "execution_count": 2,
   "metadata": {},
   "outputs": [],
   "source": [
    "##x,y,w,h = cv2.selectROI(src1)\n",
    "\n",
    "\n",
    "\n",
    "src1_ycrcb = cv2.cvtColor(src1, cv2.COLOR_BGR2YCrCb)\n",
    "src2_ycrcb = cv2.cvtColor(src2, cv2.COLOR_BGR2YCrCb)\n",
    "\n",
    "##crop = src1_ycrcb[y:y+h, x:x+w]\n",
    "\n",
    "channels = [1, 2] ## Y채널 안쓰고 색상정보만 볼거라 0 제외\n",
    "\n",
    "one = np.mat(1.0)\n",
    "\n",
    "cr_bins = 256\n",
    "cb_bins = 256 ## 정규화 분해능?\n",
    "\n",
    "histsize = [cr_bins, cb_bins]\n",
    "cr_range = [0, 256]\n",
    "cb_range = [0, 256]\n",
    "\n",
    "ranges = cr_range + cb_range\n",
    "\n",
    "hist = cv2.calcHist([src1_ycrcb], channels, mask, histsize, ranges)\n",
    "\n",
    "#마스킹 된 부분에서의 히스토그램 계산\n",
    "hist_norm = cv2.normalize((cv2.log(hist + one)), None, 0, 255,\n",
    "                          cv2.NORM_MINMAX, cv2.CV_8U)\n",
    "\n",
    "\n",
    "#log scale로 hist 사용하는것은 히스토그램이 큰값이 있으면 작은것들이 반영되기 힘들기 때문에 log 사용\n",
    "##이미지 전체에 대한 히스토그램을 구하려면 None, 특정 구역을 정하고 싶으면 mask 파일 사용하면됨\n",
    "###이미지 넘겨줄때 [이미지] 이 형식으로 전달해야함\n",
    "\n",
    " "
   ]
  },
  {
   "cell_type": "code",
   "execution_count": 3,
   "metadata": {},
   "outputs": [],
   "source": [
    "backproject = cv2.calcBackProject([src2_ycrcb], channels, hist, ranges, 1)\n",
    "#src1의 mask 부분에서의 히스토그램 값을 가지는 것들과 동일한 부분을 backproject\n",
    "\n",
    "dst = cv2.copyTo(src2, backproject)\n",
    "\n",
    "cv2.imshow('backproj', backproject)\n",
    "cv2.imshow('hist_norm', hist_norm)\n",
    "cv2.imshow('dst', dst)\n",
    "\n",
    "cv2.waitKey()\n",
    "cv2.destroyAllWindows()"
   ]
  }
 ],
 "metadata": {
  "kernelspec": {
   "display_name": "Python 3.9.12 ('base')",
   "language": "python",
   "name": "python3"
  },
  "language_info": {
   "codemirror_mode": {
    "name": "ipython",
    "version": 3
   },
   "file_extension": ".py",
   "mimetype": "text/x-python",
   "name": "python",
   "nbconvert_exporter": "python",
   "pygments_lexer": "ipython3",
   "version": "3.9.12"
  },
  "orig_nbformat": 4,
  "vscode": {
   "interpreter": {
    "hash": "49cb93f377a7abe7414b7b0f21fb3017538004a126cf690fb524202736b7fb92"
   }
  }
 },
 "nbformat": 4,
 "nbformat_minor": 2
}
