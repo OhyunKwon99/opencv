{
 "cells": [
  {
   "cell_type": "code",
   "execution_count": 15,
   "metadata": {},
   "outputs": [
    {
     "name": "stdout",
     "output_type": "stream",
     "text": [
      "Image load failed\n"
     ]
    },
    {
     "ename": "SystemExit",
     "evalue": "",
     "output_type": "error",
     "traceback": [
      "An exception has occurred, use %tb to see the full traceback.\n",
      "\u001b[1;31mSystemExit\u001b[0m\n"
     ]
    },
    {
     "name": "stderr",
     "output_type": "stream",
     "text": [
      "C:\\Users\\goh95\\AppData\\Local\\Packages\\PythonSoftwareFoundation.Python.3.9_qbz5n2kfra8p0\\LocalCache\\local-packages\\Python39\\site-packages\\IPython\\core\\interactiveshell.py:3386: UserWarning: To exit: use 'exit', 'quit', or Ctrl-D.\n",
      "  warn(\"To exit: use 'exit', 'quit', or Ctrl-D.\", stacklevel=1)\n"
     ]
    }
   ],
   "source": [
    "import sys\n",
    "import cv2\n",
    "import numpy as np\n",
    "\n",
    "src = cv2.imread('test.bmp', cv2.IMREAD_GRAYSCALE)\n",
    "\n",
    "if src is None:\n",
    "    print('Image load failed')\n",
    "    sys.exit()\n",
    "    \n",
    "kernel = np.array([[-1, 0, 1], \n",
    "                   [-2, 0, 2],\n",
    "                   [-1, 0, 1]], dtype = np.float32)\n",
    "## 중앙차분 sobel\n",
    "\n",
    "#dx = cv2.filter2D(src, -1 ,kernel, delta = 128)\n",
    "# ddepth = -1 로 인해서 결과영상도 그레이 스케일로 표시,\n",
    "## 그래서 픽셀값이 증가하는 edge는 표시되지만 반대로 감소하는 부분 표시안됨\n",
    "### 따라서 delta라는 중간값 기준으로 + - 표시가 되도록 해줌\n",
    "\n",
    "dx = cv2.Sobel(src, -1, 1, 0, delta = 128)\n",
    "dy = cv2.Sobel(src, -1, 0, 1, delta = 128)\n",
    "\n",
    "\n",
    "cv2.imshow('src', src)\n",
    "cv2.imshow('dx', dx)\n",
    "cv2.imshow('dy', dy)\n",
    "\n",
    "if cv2.waitKey() == 27:\n",
    "    cv2.destroyAllWindows()\n"
   ]
  },
  {
   "cell_type": "markdown",
   "metadata": {},
   "source": [
    "영상을 x, y 이변수 함수라고 가정하고 그 함수를 미분하여\n",
    "\n",
    "함수의 결과값이 특정값(threshold) 이상으로 미분값이 커지면 edge라고 인지\n",
    "\n",
    "미분의 종류는 3가지\n",
    "\n",
    "(x+h) - (x)는 전진 차분\n",
    "\n",
    "(x) - (x-h)는 후진 차분\n",
    "\n",
    "((x+h) - (x-h))는 중앙 차분"
   ]
  }
 ],
 "metadata": {
  "kernelspec": {
   "display_name": "Python 3.9.13 64-bit (microsoft store)",
   "language": "python",
   "name": "python3"
  },
  "language_info": {
   "codemirror_mode": {
    "name": "ipython",
    "version": 3
   },
   "file_extension": ".py",
   "mimetype": "text/x-python",
   "name": "python",
   "nbconvert_exporter": "python",
   "pygments_lexer": "ipython3",
   "version": "3.9.13"
  },
  "orig_nbformat": 4,
  "vscode": {
   "interpreter": {
    "hash": "d7bf8dc84d119a067b15f6c4bcaf3e250daef9f2aba752dcef0089acd9af3fc7"
   }
  }
 },
 "nbformat": 4,
 "nbformat_minor": 2
}
