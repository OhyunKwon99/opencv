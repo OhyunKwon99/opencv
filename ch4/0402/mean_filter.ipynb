{
 "cells": [
  {
   "cell_type": "code",
   "execution_count": 6,
   "metadata": {},
   "outputs": [],
   "source": [
    "import sys\n",
    "import cv2\n",
    "import numpy as np"
   ]
  },
  {
   "cell_type": "code",
   "execution_count": 7,
   "metadata": {},
   "outputs": [],
   "source": [
    "src = cv2.imread('rose.bmp')\n",
    "\n",
    "if src is None:\n",
    "    print('Image load failed')\n",
    "    sys.exit()\n",
    "    \n",
    "'''\n",
    "kernel = np.array([[1/9, 1/9, 1/9], \n",
    "                   [1/9, 1/9, 1/9], \n",
    "                   [1/9, 1/9, 1/9]], dtype = np.float64)\n",
    "                   '''\n",
    "'''              \n",
    "kernel = np.ones((3, 3), dtype = np.float64) / 9.0 \n",
    "dst = cv2.filter2D(src, -1, kernel)\n",
    "'''\n",
    "cv2.imshow('src', src)\n",
    "for ksize in (3, 5, 7):\n",
    "    \n",
    "    kernel = (ksize, ksize)\n",
    "    dst = cv2.blur(src, kernel)\n",
    "    \n",
    "    desc = \"Mean: {}\".format(kernel)\n",
    "    cv2.putText(dst, desc, (10, 30), cv2.FONT_HERSHEY_SIMPLEX, 1.0, 255, 1, cv2.LINE_AA)\n",
    "    \n",
    "    cv2.imshow('dst', dst)\n",
    "    cv2.waitKey()\n",
    "\n",
    "\n",
    "cv2.destroyAllWindows()\n",
    "\n"
   ]
  },
  {
   "cell_type": "code",
   "execution_count": null,
   "metadata": {},
   "outputs": [],
   "source": []
  }
 ],
 "metadata": {
  "kernelspec": {
   "display_name": "Python 3.9.12 ('base')",
   "language": "python",
   "name": "python3"
  },
  "language_info": {
   "codemirror_mode": {
    "name": "ipython",
    "version": 3
   },
   "file_extension": ".py",
   "mimetype": "text/x-python",
   "name": "python",
   "nbconvert_exporter": "python",
   "pygments_lexer": "ipython3",
   "version": "3.9.12"
  },
  "orig_nbformat": 4,
  "vscode": {
   "interpreter": {
    "hash": "49cb93f377a7abe7414b7b0f21fb3017538004a126cf690fb524202736b7fb92"
   }
  }
 },
 "nbformat": 4,
 "nbformat_minor": 2
}
