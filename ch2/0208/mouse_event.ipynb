{
 "cells": [
  {
   "cell_type": "code",
   "execution_count": 15,
   "metadata": {},
   "outputs": [],
   "source": [
    "import sys\n",
    "import numpy as np\n",
    "import cv2\n",
    "\n",
    "img = np.ones((480, 640, 3), dtype = np.uint8) *255\n"
   ]
  },
  {
   "cell_type": "code",
   "execution_count": 16,
   "metadata": {},
   "outputs": [],
   "source": [
    "oldx = oldy = -1\n",
    "\n",
    "def on_mouse(event, x, y, flags, param):\n",
    "\n",
    "    global img, oldx, oldy\n",
    "\n",
    "    if event == cv2.EVENT_LBUTTONDOWN:\n",
    "        oldx, oldy = x, y \n",
    "        print('EVENT_LBUTTONDOWN: {}, {}'.format(x, y))\n",
    "    elif event == cv2.EVENT_LBUTTONUP:\n",
    "        print('EVENT_LBUTTONUP: {}, {}'.format(x, y))\n",
    "    elif event == cv2.EVENT_MOUSEMOVE:\n",
    "        if flags & cv2.EVENT_FLAG_LBUTTON:\n",
    "            #print('EVENT_MOUSEMOVE {}, {}'.format(x, y))\n",
    "            ##cv2.circle(img, (x, y), 5, (0, 0, 255),thickness = -1)\n",
    "            cv2.line(img, (oldx,oldy), (x, y), (0, 0, 255), 5 ,cv2.LINE_AA)\n",
    "            cv2.imshow('image', img)\n",
    "            oldx, oldy  = x, y\n",
    "\n",
    "img = np.ones((480, 640, 3), dtype = np.uint8) * 255"
   ]
  },
  {
   "cell_type": "markdown",
   "metadata": {},
   "source": [
    "cv2.EVENT_FLAG_LBUTTON 을 조건문에 넣으면 해당 옵션외의 입력이 들어올때 감지할 수 없기 때문에\n",
    "\n",
    "== cv2.EVENT_FLAG_LBUTTON:\n",
    "\n",
    "& cv2.EVENT_FLAG_LBUTTON: 로 표기하여 타입력과 함께 들어오는 입력도 감지한다.\n",
    "\n",
    "event를 감지할 때는 == 연산자를\n",
    "\n",
    "flags로 추가 옵션을 감지할 때는 & 연산자를 사용하는게 좋다"
   ]
  },
  {
   "cell_type": "code",
   "execution_count": 17,
   "metadata": {},
   "outputs": [
    {
     "name": "stdout",
     "output_type": "stream",
     "text": [
      "EVENT_LBUTTONDOWN: 189, 164\n",
      "EVENT_LBUTTONUP: 601, 134\n"
     ]
    }
   ],
   "source": [
    "cv2.imshow('image',img)\n",
    "cv2.namedWindow('image')\n",
    "##cv2.imshow('image',img)\n",
    "\n",
    "cv2.setMouseCallback('image', on_mouse)\n",
    "\n",
    "cv2.waitKey()\n",
    "\n",
    "cv2.destroyAllWindows()"
   ]
  },
  {
   "cell_type": "code",
   "execution_count": null,
   "metadata": {},
   "outputs": [],
   "source": []
  }
 ],
 "metadata": {
  "kernelspec": {
   "display_name": "Python 3.9.12 ('Pytorch')",
   "language": "python",
   "name": "python3"
  },
  "language_info": {
   "codemirror_mode": {
    "name": "ipython",
    "version": 3
   },
   "file_extension": ".py",
   "mimetype": "text/x-python",
   "name": "python",
   "nbconvert_exporter": "python",
   "pygments_lexer": "ipython3",
   "version": "3.9.12"
  },
  "orig_nbformat": 4,
  "vscode": {
   "interpreter": {
    "hash": "49418117e3467ad040f328a538709f0a31be17b9d7cca48f864682de9e3fed76"
   }
  }
 },
 "nbformat": 4,
 "nbformat_minor": 2
}
