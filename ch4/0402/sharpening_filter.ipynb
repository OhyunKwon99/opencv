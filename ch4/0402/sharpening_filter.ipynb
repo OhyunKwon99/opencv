{
 "cells": [
  {
   "cell_type": "markdown",
   "metadata": {},
   "source": [
    "날카롭지않은 영상을 태두리가 날카롭게끔 다듬는 과정\n",
    "\n",
    "부드러워진 영상과 일반 영상간의 날카로움 차이와 차이가 나는 위치들을 구하고\n",
    "\n",
    "원 영상에 해당 차이만큼 반대로 더해주면서 색상의 대비가 올라가는 효과를 가져온다.\n",
    "\n"
   ]
  },
  {
   "cell_type": "code",
   "execution_count": 4,
   "metadata": {},
   "outputs": [],
   "source": [
    "import sys\n",
    "import numpy as np\n",
    "import cv2\n",
    "\n",
    "\n",
    "src = cv2.imread('rose.bmp', cv2.IMREAD_GRAYSCALE)\n",
    "\n",
    "if src is None:\n",
    "    print('Image load failed')\n",
    "    sys.exit()\n",
    "    \n",
    "blr = cv2.GaussianBlur(src, (0,0), 2) #입력, kernel size, kernel의 분산\n",
    "dst = cv2.subtract(src, blr) ## edge가 있는 부분들 출력\n",
    "##dst = np.clip(2.0*src - blr, 0, 255).astype(np.uint8)  # type: ignore\n",
    "\n",
    "cv2.imshow('src', src)\n",
    "cv2.imshow('dst', dst)\n",
    "cv2.waitKey()\n",
    "\n",
    "cv2.destroyAllWindows()"
   ]
  },
  {
   "cell_type": "markdown",
   "metadata": {},
   "source": []
  }
 ],
 "metadata": {
  "kernelspec": {
   "display_name": "Python 3.9.12 ('base')",
   "language": "python",
   "name": "python3"
  },
  "language_info": {
   "codemirror_mode": {
    "name": "ipython",
    "version": 3
   },
   "file_extension": ".py",
   "mimetype": "text/x-python",
   "name": "python",
   "nbconvert_exporter": "python",
   "pygments_lexer": "ipython3",
   "version": "3.9.12"
  },
  "orig_nbformat": 4,
  "vscode": {
   "interpreter": {
    "hash": "49cb93f377a7abe7414b7b0f21fb3017538004a126cf690fb524202736b7fb92"
   }
  }
 },
 "nbformat": 4,
 "nbformat_minor": 2
}
