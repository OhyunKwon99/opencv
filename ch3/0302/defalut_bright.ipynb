{
 "cells": [
  {
   "cell_type": "code",
   "execution_count": 12,
   "metadata": {},
   "outputs": [],
   "source": [
    "import cv2\n",
    "import numpy as np\n",
    "import sys\n",
    "\n",
    "src = cv2.imread('test.bmp', cv2.IMREAD_COLOR)\n",
    "\n",
    "## dst = src + 100\n",
    "## 255 보다 pixel 값이 커질경우에 overflow 발생\n",
    "\n",
    "dst = np.clip(src + 100.0 , 0, 255).astype(np.uint8)\n",
    "## 실수 단위로 계산하고 그 후에 다시 uint8로 바꿔서 저장\n",
    "\n",
    "## OR add 함수 사용\n",
    "##dst = cv2.add(src, (100, 100, 100, 0))\n",
    "## 같은 채널수로 맞춰줘야 한다. 아니면 0으로 broadcasting 된다.\n",
    "\n",
    "\n",
    "cv2.imshow('src', src)\n",
    "cv2.imshow('dst', dst)\n",
    "cv2.waitKey()\n",
    "\n",
    "cv2.destroyAllWindows()"
   ]
  }
 ],
 "metadata": {
  "kernelspec": {
   "display_name": "Python 3.9.12 ('Pytorch')",
   "language": "python",
   "name": "python3"
  },
  "language_info": {
   "codemirror_mode": {
    "name": "ipython",
    "version": 3
   },
   "file_extension": ".py",
   "mimetype": "text/x-python",
   "name": "python",
   "nbconvert_exporter": "python",
   "pygments_lexer": "ipython3",
   "version": "3.9.12"
  },
  "orig_nbformat": 4,
  "vscode": {
   "interpreter": {
    "hash": "49418117e3467ad040f328a538709f0a31be17b9d7cca48f864682de9e3fed76"
   }
  }
 },
 "nbformat": 4,
 "nbformat_minor": 2
}
