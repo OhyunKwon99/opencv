{
 "cells": [
  {
   "cell_type": "code",
   "execution_count": null,
   "metadata": {},
   "outputs": [],
   "source": [
    "import cv2\n",
    "import numpy as np\n",
    "import sys\n",
    "\n",
    "\n",
    "\n",
    "def  level_changed_call_back(pos):\n",
    "    global img\n",
    "    print(pos)\n",
    "    level =  pos * 16\n",
    "\n",
    "    if level >= 256 :\n",
    "        img[:,:] = 255\n",
    "    else:\n",
    "        img[:,:] = level\n",
    "\n",
    "    cv2.imshow('zero', img)\n",
    "\n",
    "img = np.zeros((480, 640), np.uint8)\n",
    "\n",
    "cv2.namedWindow('zero')\n",
    "cv2.imshow('zero', img)\n",
    "cv2.createTrackbar('level', 'zero', 0, 16, level_changed_call_back) \n",
    "\n",
    "while True:\n",
    "    if cv2.waitKey() == 27:\n",
    "        break\n",
    "\n",
    "cv2.destroyAllWindows()"
   ]
  },
  {
   "cell_type": "markdown",
   "metadata": {},
   "source": [
    "np.cilp()이라는 함수가 있음 \n",
    "\n",
    "level = np.cilp(level, 0, 255) 꼴로 사용하면 \n",
    "\n",
    "if 문의 역할을 대신 할 수 있음"
   ]
  },
  {
   "cell_type": "code",
   "execution_count": null,
   "metadata": {},
   "outputs": [],
   "source": []
  }
 ],
 "metadata": {
  "kernelspec": {
   "display_name": "Python 3.9.12 ('Pytorch')",
   "language": "python",
   "name": "python3"
  },
  "language_info": {
   "codemirror_mode": {
    "name": "ipython",
    "version": 3
   },
   "file_extension": ".py",
   "mimetype": "text/x-python",
   "name": "python",
   "nbconvert_exporter": "python",
   "pygments_lexer": "ipython3",
   "version": "3.9.12"
  },
  "orig_nbformat": 4,
  "vscode": {
   "interpreter": {
    "hash": "49418117e3467ad040f328a538709f0a31be17b9d7cca48f864682de9e3fed76"
   }
  }
 },
 "nbformat": 4,
 "nbformat_minor": 2
}
