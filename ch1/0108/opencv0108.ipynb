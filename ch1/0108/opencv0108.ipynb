{
 "cells": [
  {
   "cell_type": "code",
   "execution_count": 1,
   "metadata": {},
   "outputs": [
    {
     "name": "stdout",
     "output_type": "stream",
     "text": [
      ".\\images\\autumn_forest_park_128379_1920x1080.jpg\n",
      ".\\images\\boat_mountains_lake_135258_1920x1080.jpg\n",
      ".\\images\\forest_fog_trees_128751_1920x1080.jpg\n",
      ".\\images\\pier_dock_sea_dusk_shore_118549_1920x1080.jpg\n",
      ".\\images\\road_marking_evening_clouds_horizon_120298_1920x1080.jpg\n"
     ]
    }
   ],
   "source": [
    "import sys\n",
    "import os \n",
    "import glob\n",
    "import cv2\n",
    "\n",
    "img_files = glob.glob('.\\\\images\\\\*.jpg')\n",
    "\n",
    "for f in img_files:\n",
    "    print(f)"
   ]
  },
  {
   "cell_type": "markdown",
   "metadata": {},
   "source": [
    "특정 폴더에있는 이미지 파일 목록으로 읽어오기\n",
    "<br/> os.listdir()로 특정 위치에 있는 목록들 불러오고\n",
    "c endswith()로 특정이름을 가지고있는 것들을 한번더 추릴수 있음"
   ]
  },
  {
   "cell_type": "code",
   "execution_count": 2,
   "metadata": {},
   "outputs": [],
   "source": [
    "cv2.namedWindow('Image', cv2.WINDOW_NORMAL)\n",
    "cv2.setWindowProperty('Image', \n",
    "                      cv2.WND_PROP_FULLSCREEN, \n",
    "                      cv2.WINDOW_FULLSCREEN )\n",
    "cnt = len(img_files)\n",
    "idx = 0\n",
    "while (True):\n",
    "    img = cv2.imread(img_files[idx])\n",
    "\n",
    "    cv2.imshow('Image', img)\n",
    "    \n",
    "    \n",
    "\n",
    "    if cv2.waitKey() == 27 : ##\n",
    "        '''\n",
    "        위의 == 27 을  >= 0 으로 바꾸면 아무키나 눌러도 out\n",
    "        '''\n",
    "        break\n",
    "    \n",
    "    idx += 1\n",
    "    if idx >= cnt:\n",
    "        idx = 0\n",
    "        \n",
    "    if cv2.pollKey() == -1 :\n",
    "        cv2.imshow('Image', img)\n",
    "\n",
    "    \n",
    "    \n",
    "cv2.destroyAllWindows()"
   ]
  },
  {
   "cell_type": "markdown",
   "metadata": {},
   "source": [
    "<br/>glob.glob()를 통해 특정 이름의 패턴을 가지고 있는 파일들을 모두 가져올 수 있음"
   ]
  }
 ],
 "metadata": {
  "kernelspec": {
   "display_name": "Python 3.9.12 ('Pytorch')",
   "language": "python",
   "name": "python3"
  },
  "language_info": {
   "codemirror_mode": {
    "name": "ipython",
    "version": 3
   },
   "file_extension": ".py",
   "mimetype": "text/x-python",
   "name": "python",
   "nbconvert_exporter": "python",
   "pygments_lexer": "ipython3",
   "version": "3.9.12"
  },
  "orig_nbformat": 4,
  "vscode": {
   "interpreter": {
    "hash": "49418117e3467ad040f328a538709f0a31be17b9d7cca48f864682de9e3fed76"
   }
  }
 },
 "nbformat": 4,
 "nbformat_minor": 2
}
