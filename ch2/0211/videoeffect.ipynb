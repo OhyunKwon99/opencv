{
 "cells": [
  {
   "cell_type": "code",
   "execution_count": 1,
   "metadata": {},
   "outputs": [
    {
     "name": "stdout",
     "output_type": "stream",
     "text": [
      "24.0\n"
     ]
    }
   ],
   "source": [
    "import cv2\n",
    "import numpy as np\n",
    "import sys\n",
    "import time\n",
    "\n",
    "cap1 = cv2.VideoCapture('video1.mp4')\n",
    "cap2 = cv2.VideoCapture('video2.mp4')\n",
    "\n",
    "if not cap1.isOpened() or not cap2.isOpened() :\n",
    "    print('video opend failed')\n",
    "    sys.exit()\n",
    "\n",
    "\n",
    "frame_cnt1 = round(cap1.get(cv2.CAP_PROP_FRAME_COUNT))\n",
    "frame_cnt2 = round(cap2.get(cv2.CAP_PROP_FRAME_COUNT))\n",
    "\n",
    "fps = cap1.get(cv2.CAP_PROP_FPS)\n",
    "effect_frames = int(fps*2)\n",
    "## 초당 24프레임 따라서 2초 동안 겹치는 작업 해주기 위해 effectframe 설정\n",
    "\n",
    "delay = int(1000/fps)\n",
    "print(fps)\n",
    "\n",
    "\n",
    "w = round(cap1.get(cv2.CAP_PROP_FRAME_WIDTH))\n",
    "h = round(cap1.get(cv2.CAP_PROP_FRAME_HEIGHT))\n",
    "##get이 반환값이 double 따라서 round로 int형으로 만들어줌\n",
    "\n",
    "##fps = 30 ##cap.get(cv2.CAP_PROP_FPS)\n",
    "## 카메라마다 반환값 있을수도 있고 없을수도 있음\n",
    "\n",
    "fourcc = cv2.VideoWriter_fourcc(*'DIVX')\n",
    "## *'DIVX' == 'D', 'I', 'V', 'X'\n",
    "\n",
    "out = cv2.VideoWriter('output.avi', fourcc, effect_frames, (w,h))\n",
    "\n",
    "\n",
    "\n",
    "\n",
    "for i in range(frame_cnt1 - effect_frames):\n",
    "\n",
    "    ret1, frame1 = cap1.read()\n",
    "\n",
    "    if not ret1:\n",
    "        break\n",
    "\n",
    "    out.write(frame1)\n",
    "    cv2.imshow('frame', frame1)\n",
    "    cv2.waitKey(delay)\n",
    "\n",
    "for i in range(effect_frames):\n",
    "\n",
    "    ret1, frame1 = cap1.read()\n",
    "    ret2, frame2 = cap2.read()\n",
    "\n",
    "    if not ret1 or not ret2:\n",
    "        break\n",
    "\n",
    "    bound = int(w-(w*(i/effect_frames)))\n",
    "    frame = frame1[:, : bound, :]\n",
    "    frame = np.append(frame, frame2[:, bound :, :], axis = 1)\n",
    "    out.write(frame)\n",
    "    cv2.imshow('frame', frame)\n",
    "    cv2.waitKey(delay)\n",
    "for i in range(frame_cnt2 - effect_frames):\n",
    "\n",
    "    ret2, frame2 = cap2.read()\n",
    "    if not ret2:\n",
    "        break\n",
    "\n",
    "    out.write(frame2)\n",
    "    cv2.imshow('frame', frame2)\n",
    "    cv2.waitKey(delay)\n",
    "    \n",
    "\n",
    "cap1.release()\n",
    "cap2.release()\n",
    "cv2.destroyAllWindows()"
   ]
  },
  {
   "cell_type": "code",
   "execution_count": 15,
   "metadata": {},
   "outputs": [
    {
     "name": "stdout",
     "output_type": "stream",
     "text": [
      "a\n"
     ]
    },
    {
     "ename": "TypeError",
     "evalue": "only size-1 arrays can be converted to Python scalars",
     "output_type": "error",
     "traceback": [
      "\u001b[1;31m---------------------------------------------------------------------------\u001b[0m",
      "\u001b[1;31mTypeError\u001b[0m                                 Traceback (most recent call last)",
      "\u001b[1;32me:\\goh95\\AppData\\Local\\Programs\\opencv\\ch2\\0211\\videoeffect.ipynb 셀 2\u001b[0m in \u001b[0;36m<cell line: 13>\u001b[1;34m()\u001b[0m\n\u001b[0;32m     <a href='vscode-notebook-cell:/e%3A/goh95/AppData/Local/Programs/opencv/ch2/0211/videoeffect.ipynb#W1sZmlsZQ%3D%3D?line=16'>17</a>\u001b[0m \u001b[39mif\u001b[39;00m \u001b[39mnot\u001b[39;00m status1:\n\u001b[0;32m     <a href='vscode-notebook-cell:/e%3A/goh95/AppData/Local/Programs/opencv/ch2/0211/videoeffect.ipynb#W1sZmlsZQ%3D%3D?line=17'>18</a>\u001b[0m     \u001b[39mbreak\u001b[39;00m\n\u001b[1;32m---> <a href='vscode-notebook-cell:/e%3A/goh95/AppData/Local/Programs/opencv/ch2/0211/videoeffect.ipynb#W1sZmlsZQ%3D%3D?line=19'>20</a>\u001b[0m alpha \u001b[39m=\u001b[39m np\u001b[39m.\u001b[39mmultiply( \u001b[39mfloat\u001b[39;49m(frame1), ((i)\u001b[39m/\u001b[39mframe_cnt1\u001b[39m+\u001b[39mframe_cnt2) )\u001b[39m#*float( (frame_cnt1 - i) / frame_cnt1) \u001b[39;00m\n\u001b[0;32m     <a href='vscode-notebook-cell:/e%3A/goh95/AppData/Local/Programs/opencv/ch2/0211/videoeffect.ipynb#W1sZmlsZQ%3D%3D?line=20'>21</a>\u001b[0m beta \u001b[39m=\u001b[39m \u001b[39m1.0\u001b[39m\u001b[39m-\u001b[39malpha\n\u001b[0;32m     <a href='vscode-notebook-cell:/e%3A/goh95/AppData/Local/Programs/opencv/ch2/0211/videoeffect.ipynb#W1sZmlsZQ%3D%3D?line=22'>23</a>\u001b[0m \u001b[39m##frame3 = np.multiply(alpha, frame1.astype(np.float32))\u001b[39;00m\n\u001b[0;32m     <a href='vscode-notebook-cell:/e%3A/goh95/AppData/Local/Programs/opencv/ch2/0211/videoeffect.ipynb#W1sZmlsZQ%3D%3D?line=23'>24</a>\u001b[0m \u001b[39m##out1.write(frame3)\u001b[39;00m\n",
      "\u001b[1;31mTypeError\u001b[0m: only size-1 arrays can be converted to Python scalars"
     ]
    }
   ],
   "source": [
    "from array import array\n",
    "\n",
    "\n",
    "cap1 = cv2.VideoCapture('video1.mp4')\n",
    "cap2 = cv2.VideoCapture('video2.mp4')\n",
    "\n",
    "if not cap1.isOpened() or not cap2.isOpened() :\n",
    "    print('video opend failed')\n",
    "    sys.exit()\n",
    "    \n",
    "out1 = cv2.VideoWriter('output1.avi', fourcc, effect_frames, (w,h))\n",
    "print('a')\n",
    "for i in range(0, frame_cnt1+frame_cnt2):\n",
    "    \n",
    "    status1, frame1 = cap1.read()\n",
    "    \n",
    "    if not status1:\n",
    "        break\n",
    "\n",
    "    alpha = np.multiply( float(frame1), ((i)/frame_cnt1+frame_cnt2) )#*float( (frame_cnt1 - i) / frame_cnt1) \n",
    "    beta = 1.0-alpha\n",
    "\n",
    "    ##frame3 = np.multiply(alpha, frame1.astype(np.float32))\n",
    "    ##out1.write(frame3)\n",
    "    cv2.imshow('frame1', alpha)\n",
    "    #cv2.imshow('frame2', beta)\n",
    "    cv2.waitKey(delay)\n",
    "    \n",
    "\n",
    "cap1.release()\n",
    "cap2.release()\n",
    "cv2.destroyAllWindows()\n"
   ]
  }
 ],
 "metadata": {
  "kernelspec": {
   "display_name": "Python 3.9.12 ('Pytorch')",
   "language": "python",
   "name": "python3"
  },
  "language_info": {
   "codemirror_mode": {
    "name": "ipython",
    "version": 3
   },
   "file_extension": ".py",
   "mimetype": "text/x-python",
   "name": "python",
   "nbconvert_exporter": "python",
   "pygments_lexer": "ipython3",
   "version": "3.9.12"
  },
  "orig_nbformat": 4,
  "vscode": {
   "interpreter": {
    "hash": "49418117e3467ad040f328a538709f0a31be17b9d7cca48f864682de9e3fed76"
   }
  }
 },
 "nbformat": 4,
 "nbformat_minor": 2
}
