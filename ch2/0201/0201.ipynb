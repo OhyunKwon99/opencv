{
 "cells": [
  {
   "cell_type": "code",
   "execution_count": 15,
   "metadata": {},
   "outputs": [
    {
     "name": "stdout",
     "output_type": "stream",
     "text": [
      "3\n",
      "<class 'numpy.ndarray'>\n",
      "(1338, 2048)\n"
     ]
    }
   ],
   "source": [
    "import cv2\n",
    "\n",
    "img1 = cv2.imread('snake.bmp', cv2.IMREAD_GRAYSCALE)\n",
    "img2 = cv2.imread('snake.bmp', cv2.IMREAD_COLOR)\n",
    "print(img2.ndim)\n",
    "print(type(img1))\n",
    "print(img1.shape)\n",
    "\n",
    "def show(str, img):\n",
    "    cv2.namedWindow(str, cv2.WINDOW_NORMAL)\n",
    "    cv2.setWindowProperty(str, \n",
    "                      cv2.WND_PROP_FULLSCREEN, \n",
    "                      cv2.WINDOW_FULLSCREEN )\n",
    "    cv2.imshow(str,img2)\n",
    "    if cv2.waitKey() == 27:\n",
    "        cv2.destroyAllWindows()\n"
   ]
  },
  {
   "cell_type": "code",
   "execution_count": 16,
   "metadata": {},
   "outputs": [
    {
     "name": "stdout",
     "output_type": "stream",
     "text": [
      "(1338, 2048, 3)\n",
      "8220672\n",
      "uint8\n",
      "img1 is grayscale image\n",
      "w = 2048, h = 1338\n"
     ]
    }
   ],
   "source": [
    "show(\"test\", img2)\n",
    "''''''\n",
    "print(img2.shape)\n",
    "print(img2.size)\n",
    "print(img2.dtype)\n",
    "\n",
    "if len(img1.shape) == 2:\n",
    "    print(\"img1 is grayscale image\")\n",
    "'''\n",
    "h, w = img2.shape\n",
    "print(\"w = {}, h = {}\".format(w, h))\n",
    "'''\n",
    "h, w = img2.shape[:2]\n",
    "print(\"w = {}, h = {}\".format(w, h))\n"
   ]
  },
  {
   "cell_type": "markdown",
   "metadata": {},
   "source": [
    "opencv는 이미지를 numpy.ndarray 형식으로 저장됨\n",
    "<br/> h,w 를 입력받을때 보통 shape로 입력받는데 이때 shape 가 채널수정보까지 반환하는 경우 있음\n",
    "<br/>그래서 unpack 에러 생기는 경우 있음. shape의[:2] 앞 두개의 data만 가져오는게 일반적\n"
   ]
  },
  {
   "cell_type": "code",
   "execution_count": 17,
   "metadata": {},
   "outputs": [
    {
     "name": "stdout",
     "output_type": "stream",
     "text": [
      "0\n",
      "[0 0 0]\n"
     ]
    }
   ],
   "source": [
    "\n",
    "x = 20\n",
    "y = 10\n",
    "\n",
    "point_grayscale = img1[x, y]\n",
    "print(point_grayscale)\n",
    "\n",
    "point_BGR = img2[x,y]\n",
    "print(point_BGR)\n",
    "\n",
    "img2[x,y] = (0, 255, 255)\n",
    "show(\"BGR scale\",img2)\n"
   ]
  },
  {
   "cell_type": "markdown",
   "metadata": {},
   "source": [
    "img2 = cv2.imread('snake.bmp', cv2.IMREAD_COLOR) 을 통해 가져온 정보들에\n",
    "<br/> point_BGR = img2[x,y] print(point_BGR) 처럼 특정 위치의 정보를 가져올 수 도있고\n",
    "<br/> 임의로 BGR 또는 GRAYSCALE 값을 넣어줄 수 있음"
   ]
  },
  {
   "cell_type": "code",
   "execution_count": 18,
   "metadata": {},
   "outputs": [],
   "source": [
    "for y in range(h):\n",
    "    for x in range(w):\n",
    "        img2[y, x] = (0, 255, 100)\n",
    "show(\"adjust BGR scale for loop\", img2)"
   ]
  },
  {
   "cell_type": "code",
   "execution_count": 19,
   "metadata": {},
   "outputs": [],
   "source": [
    "img2[:,:] = (0, 255, 100) \n",
    "'''\n",
    "gray scale일 경우 img1[:,:] = (255)\n",
    "'''\n",
    "show(\"adjust BGR scale\", img2)"
   ]
  },
  {
   "cell_type": "markdown",
   "metadata": {},
   "source": [
    "위와 같이 영상, 이미지 처리할 때 python에서는 for문을 통해 image를 처리하는경우 \n",
    "<br/> for문 연산에서 시간이 4배 가까이 걸리는것을 알 수 있다\n",
    "<br/> c언어에서는 차이가 많이 없지만 python에서는 imread로 읽어온 data에\n",
    "<br/> 바로 범위 indexing(:)하여서 값을 처리하는것이 빠르다. 한픽셀 씩 값을 바꾸는 것이 오래걸린다."
   ]
  }
 ],
 "metadata": {
  "kernelspec": {
   "display_name": "Python 3.9.12 ('Pytorch')",
   "language": "python",
   "name": "python3"
  },
  "language_info": {
   "codemirror_mode": {
    "name": "ipython",
    "version": 3
   },
   "file_extension": ".py",
   "mimetype": "text/x-python",
   "name": "python",
   "nbconvert_exporter": "python",
   "pygments_lexer": "ipython3",
   "version": "3.9.12"
  },
  "orig_nbformat": 4,
  "vscode": {
   "interpreter": {
    "hash": "49418117e3467ad040f328a538709f0a31be17b9d7cca48f864682de9e3fed76"
   }
  }
 },
 "nbformat": 4,
 "nbformat_minor": 2
}
