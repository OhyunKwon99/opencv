{
 "cells": [
  {
   "cell_type": "code",
   "execution_count": 1,
   "metadata": {},
   "outputs": [],
   "source": [
    "import cv2\n",
    "import numpy as np\n",
    "import sys\n",
    "import matplotlib.pyplot as plt"
   ]
  },
  {
   "cell_type": "markdown",
   "metadata": {},
   "source": [
    "HSV\n",
    "H 색상정보\n",
    "S 선명도 \n",
    "V 밝기\n",
    "\n",
    "RGB와 HSV 중 HSV 선호되는 이유는 밝기정보가 한개로 고정되면서 환경에의해 색인식이 변할때 결과가 어느정도 일정하게 나온다\n",
    "\n",
    "\n",
    "RGB는 3개의 변수로 밝기 정도를 결정하게 되므로 밝기 변화에 의해 결과의 정확도가 계속 변한다."
   ]
  },
  {
   "cell_type": "code",
   "execution_count": 4,
   "metadata": {},
   "outputs": [
    {
     "ename": "error",
     "evalue": "OpenCV(4.6.0) D:\\a\\opencv-python\\opencv-python\\opencv\\modules\\highgui\\src\\window.cpp:862: error: (-215:Assertion failed) trackbar in function 'cv::getTrackbarPos'\n",
     "output_type": "error",
     "traceback": [
      "\u001b[1;31m---------------------------------------------------------------------------\u001b[0m",
      "\u001b[1;31merror\u001b[0m                                     Traceback (most recent call last)",
      "\u001b[1;32me:\\goh95\\AppData\\Local\\Programs\\opencv\\ch3\\0307\\color_extract.ipynb 셀 3\u001b[0m in \u001b[0;36mon_trackbar\u001b[1;34m(pos)\u001b[0m\n\u001b[0;32m      <a href='vscode-notebook-cell:/e%3A/goh95/AppData/Local/Programs/opencv/ch3/0307/color_extract.ipynb#W2sZmlsZQ%3D%3D?line=8'>9</a>\u001b[0m \u001b[39mdef\u001b[39;00m \u001b[39mon_trackbar\u001b[39m(pos):\n\u001b[0;32m     <a href='vscode-notebook-cell:/e%3A/goh95/AppData/Local/Programs/opencv/ch3/0307/color_extract.ipynb#W2sZmlsZQ%3D%3D?line=9'>10</a>\u001b[0m     hmin \u001b[39m=\u001b[39m cv2\u001b[39m.\u001b[39mgetTrackbarPos(\u001b[39m'\u001b[39m\u001b[39mH_min\u001b[39m\u001b[39m'\u001b[39m, \u001b[39m'\u001b[39m\u001b[39mdst\u001b[39m\u001b[39m'\u001b[39m)\n\u001b[1;32m---> <a href='vscode-notebook-cell:/e%3A/goh95/AppData/Local/Programs/opencv/ch3/0307/color_extract.ipynb#W2sZmlsZQ%3D%3D?line=10'>11</a>\u001b[0m     hmax \u001b[39m=\u001b[39m cv2\u001b[39m.\u001b[39;49mgetTrackbarPos(\u001b[39m'\u001b[39;49m\u001b[39mH_max\u001b[39;49m\u001b[39m'\u001b[39;49m, \u001b[39m'\u001b[39;49m\u001b[39mdst\u001b[39;49m\u001b[39m'\u001b[39;49m)\n\u001b[0;32m     <a href='vscode-notebook-cell:/e%3A/goh95/AppData/Local/Programs/opencv/ch3/0307/color_extract.ipynb#W2sZmlsZQ%3D%3D?line=12'>13</a>\u001b[0m     dst \u001b[39m=\u001b[39m cv2\u001b[39m.\u001b[39minRange(src_hsv, (hmin, \u001b[39m150\u001b[39m, \u001b[39m0\u001b[39m), (hmax, \u001b[39m255\u001b[39m, \u001b[39m255\u001b[39m))\n\u001b[0;32m     <a href='vscode-notebook-cell:/e%3A/goh95/AppData/Local/Programs/opencv/ch3/0307/color_extract.ipynb#W2sZmlsZQ%3D%3D?line=13'>14</a>\u001b[0m     cv2\u001b[39m.\u001b[39mimshow(\u001b[39m'\u001b[39m\u001b[39mdst\u001b[39m\u001b[39m'\u001b[39m, dst)\n",
      "\u001b[1;31merror\u001b[0m: OpenCV(4.6.0) D:\\a\\opencv-python\\opencv-python\\opencv\\modules\\highgui\\src\\window.cpp:862: error: (-215:Assertion failed) trackbar in function 'cv::getTrackbarPos'\n"
     ]
    },
    {
     "data": {
      "text/plain": [
       "\"\\n\\ndst1 = cv2.inRange(src, (0, 128, 0), (100, 255, 100))\\ndst2 = cv2.inRange(src_hsv, (50, 150, 0), (80, 255, 255))\\n\\ncv2.imshow('src', src)\\ncv2.imshow('dst1', dst1)\\ncv2.imshow('')\\n\""
      ]
     },
     "execution_count": 4,
     "metadata": {},
     "output_type": "execute_result"
    }
   ],
   "source": [
    "src = cv2.imread('candies.png')\n",
    "\n",
    "if src is None:\n",
    "    print('image load failed!')\n",
    "    sys.exit()\n",
    "    \n",
    "src_hsv = cv2.cvtColor(src, cv2.COLOR_BGR2HSV)\n",
    "\n",
    "def on_trackbar(pos):\n",
    "    hmin = cv2.getTrackbarPos('H_min', 'dst')\n",
    "    hmax = cv2.getTrackbarPos('H_max', 'dst')\n",
    "    \n",
    "    dst = cv2.inRange(src_hsv, (hmin, 150, 0), (hmax, 255, 255))\n",
    "    cv2.imshow('dst', dst)\n",
    "\n",
    "cv2.imshow('src', src)\n",
    "cv2.namedWindow('dst')\n",
    "\n",
    "cv2.createTrackbar('H_min', 'dst', 50, 170, on_trackbar)\n",
    "cv2.createTrackbar('H_max', 'dst', 80, 179, on_trackbar)\n",
    "\n",
    "on_trackbar(0)\n",
    "cv2.waitKey()\n",
    "'''\n",
    "\n",
    "dst1 = cv2.inRange(src, (0, 128, 0), (100, 255, 100))\n",
    "dst2 = cv2.inRange(src_hsv, (50, 150, 0), (80, 255, 255))\n",
    "\n",
    "cv2.imshow('src', src)\n",
    "cv2.imshow('dst1', dst1)\n",
    "cv2.imshow('')\n",
    "'''"
   ]
  }
 ],
 "metadata": {
  "kernelspec": {
   "display_name": "Python 3.9.12 ('Pytorch')",
   "language": "python",
   "name": "python3"
  },
  "language_info": {
   "codemirror_mode": {
    "name": "ipython",
    "version": 3
   },
   "file_extension": ".py",
   "mimetype": "text/x-python",
   "name": "python",
   "nbconvert_exporter": "python",
   "pygments_lexer": "ipython3",
   "version": "3.9.12"
  },
  "orig_nbformat": 4,
  "vscode": {
   "interpreter": {
    "hash": "49418117e3467ad040f328a538709f0a31be17b9d7cca48f864682de9e3fed76"
   }
  }
 },
 "nbformat": 4,
 "nbformat_minor": 2
}
