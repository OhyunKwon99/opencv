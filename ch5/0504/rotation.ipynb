{
 "cells": [
  {
   "cell_type": "code",
   "execution_count": 16,
   "metadata": {},
   "outputs": [],
   "source": [
    "import cv2\n",
    "import sys\n",
    "import numpy as np\n",
    "import math\n",
    "\n",
    "src = cv2.imread('snake.bmp')\n",
    "\n",
    "if src is None:\n",
    "    print('Image load failed')\n",
    "    sys.exit()\n",
    "    \n",
    "rad = 20 * (math.pi / 180) ##  radian scale\n",
    "aff = np.array([[math.cos(rad), math.sin(rad), 0],\n",
    "                [-math.sin(rad), math.cos(rad), 0]], dtype = np.float32)\n",
    "\n",
    "dst = cv2.warpAffine(src, aff, (0, 0))\n",
    "\n",
    "cv2.imshow('src', src)\n",
    "cv2.imshow('rotation', dst)\n",
    "cv2.waitKey()\n",
    "\n",
    "cv2.destroyAllWindows()"
   ]
  },
  {
   "cell_type": "code",
   "execution_count": 17,
   "metadata": {},
   "outputs": [],
   "source": [
    "import cv2\n",
    "import sys\n",
    "import numpy as np\n",
    "import math\n",
    "\n",
    "src = cv2.imread('test.bmp')\n",
    "\n",
    "if src is None:\n",
    "    print('Image load failed')\n",
    "    sys.exit()\n",
    "    \n",
    "cp = (src.shape[0] / 2, src.shape[1] / 2) ## rotation center point 잡아주는 것\n",
    "\n",
    "rot = cv2.getRotationMatrix2D(cp, 20, 0.8) ##중심점, 회전각도, 크기배율\n",
    "\n",
    "dst = cv2.warpAffine(src, rot, (0, 0), borderMode= 0 ,borderValue = 0)\n",
    "\n",
    "cv2.imshow('src', src)\n",
    "cv2.imshow('rotate', dst)\n",
    "\n",
    "cv2.waitKey()\n",
    "\n",
    "cv2.destroyAllWindows()"
   ]
  },
  {
   "cell_type": "code",
   "execution_count": 18,
   "metadata": {},
   "outputs": [],
   "source": [
    "\n",
    "import sys\n",
    "import numpy as np\n",
    "import cv2\n",
    "import math\n",
    "\n",
    "src = cv2.imread('namecard.jpg')\n",
    "if src is None :\n",
    "    print('Image load failed')\n",
    "    sys.exit()\n",
    "    \n",
    "w, h = 720, 400\n",
    "\n",
    "srcQuad = np.array([[325, 307], \n",
    "                    [760, 369], \n",
    "                    [718, 611], \n",
    "                    [231, 515]], \n",
    "                   dtype = np.float32)\n",
    "\n",
    "dstQuad = np.array([[0, 0], \n",
    "                    [w-1, 0], \n",
    "                    [w-1, h-1], \n",
    "                    [0, h-1]], \n",
    "                   dtype= np.float32) ## 출력영상이 좌상단, 우상단, 우하단, 좌하단 점들을 지정해준다\n",
    "\n",
    "pers = cv2.getPerspectiveTransform(srcQuad, dstQuad)\n",
    "\n",
    "dst = cv2.warpPerspective(src, pers, (w, h))\n",
    "\n",
    "cv2.imshow('src', src)\n",
    "cv2.imshow('dst', dst)\n",
    "\n",
    "cv2.waitKey()\n",
    "cv2.destroyAllWindows()"
   ]
  }
 ],
 "metadata": {
  "kernelspec": {
   "display_name": "Python 3.9.13 64-bit (microsoft store)",
   "language": "python",
   "name": "python3"
  },
  "language_info": {
   "codemirror_mode": {
    "name": "ipython",
    "version": 3
   },
   "file_extension": ".py",
   "mimetype": "text/x-python",
   "name": "python",
   "nbconvert_exporter": "python",
   "pygments_lexer": "ipython3",
   "version": "3.9.13"
  },
  "orig_nbformat": 4,
  "vscode": {
   "interpreter": {
    "hash": "d7bf8dc84d119a067b15f6c4bcaf3e250daef9f2aba752dcef0089acd9af3fc7"
   }
  }
 },
 "nbformat": 4,
 "nbformat_minor": 2
}
