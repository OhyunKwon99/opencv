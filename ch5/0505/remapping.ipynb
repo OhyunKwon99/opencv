{
 "cells": [
  {
   "cell_type": "code",
   "execution_count": 2,
   "metadata": {},
   "outputs": [],
   "source": [
    "import sys\n",
    "import cv2\n",
    "import numpy as np\n",
    "\n",
    "src = cv2.imread('snake.bmp')\n",
    "\n",
    "if src is None:\n",
    "    print('Image load failed!')\n",
    "    sys.exit()\n",
    "    \n",
    "h, w = src.shape[:2]\n",
    "\n",
    "map2, map1 = np.indices((h, w), dtype = np.float32) \n",
    "## 행렬의 인덱스 값을 분리하여 하나씩 반환해준다, y, x에 대한 인덱스 반환\n",
    "\n",
    "map2 = map2 + 10*np.sin(map1 / 32) ## 파도치는 이펙트 넣음\n",
    "\n",
    "dst = cv2.remap(src, map1, map2, cv2.INTER_CUBIC, \n",
    "                borderMode= cv2.BORDER_DEFAULT)\n",
    "\n",
    "cv2.imshow('src', src)\n",
    "cv2.imshow('dst', dst)\n",
    "\n",
    "cv2.waitKey()\n",
    "\n",
    "cv2.destroyAllWindows()"
   ]
  },
  {
   "cell_type": "code",
   "execution_count": 4,
   "metadata": {},
   "outputs": [
    {
     "name": "stdout",
     "output_type": "stream",
     "text": [
      "[[0.0000000e+00 3.1244913e-01 6.2459314e-01 ... 8.7930307e+00\n",
      "  8.9375458e+00 9.0733328e+00]\n",
      " [1.0000000e+00 1.3124491e+00 1.6245931e+00 ... 9.7930307e+00\n",
      "  9.9375458e+00 1.0073333e+01]\n",
      " [2.0000000e+00 2.3124492e+00 2.6245933e+00 ... 1.0793031e+01\n",
      "  1.0937546e+01 1.1073333e+01]\n",
      " ...\n",
      " [1.3350000e+03 1.3353125e+03 1.3356246e+03 ... 1.3437931e+03\n",
      "  1.3439375e+03 1.3440734e+03]\n",
      " [1.3360000e+03 1.3363125e+03 1.3366246e+03 ... 1.3447931e+03\n",
      "  1.3449375e+03 1.3450734e+03]\n",
      " [1.3370000e+03 1.3373125e+03 1.3376246e+03 ... 1.3457931e+03\n",
      "  1.3459375e+03 1.3460734e+03]]\n"
     ]
    }
   ],
   "source": [
    "print(map2)"
   ]
  }
 ],
 "metadata": {
  "kernelspec": {
   "display_name": "Python 3.9.13 64-bit (microsoft store)",
   "language": "python",
   "name": "python3"
  },
  "language_info": {
   "codemirror_mode": {
    "name": "ipython",
    "version": 3
   },
   "file_extension": ".py",
   "mimetype": "text/x-python",
   "name": "python",
   "nbconvert_exporter": "python",
   "pygments_lexer": "ipython3",
   "version": "3.9.13"
  },
  "orig_nbformat": 4,
  "vscode": {
   "interpreter": {
    "hash": "d7bf8dc84d119a067b15f6c4bcaf3e250daef9f2aba752dcef0089acd9af3fc7"
   }
  }
 },
 "nbformat": 4,
 "nbformat_minor": 2
}
