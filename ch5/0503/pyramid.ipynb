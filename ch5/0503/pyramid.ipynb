{
 "cells": [
  {
   "cell_type": "code",
   "execution_count": 12,
   "metadata": {},
   "outputs": [],
   "source": [
    "import sys\n",
    "import numpy as np\n",
    "import cv2\n",
    "\n",
    "src = cv2.imread('rose.bmp')\n",
    "\n",
    "if src is None:\n",
    "    print('Image load failed')\n",
    "    sys.exit()\n",
    "    \n",
    "rc = (100, 40, 250, 230) ## rectangle tuple (x, y, 가로크기, 세로크기)\n",
    "\n",
    "cpy = src.copy()\n",
    "cv2.rectangle(cpy, rc, (0, 0, 255), 2) ##rc 위치에 빨간색으로 2픽셀짜리 사각형 넣기\n",
    "cv2.imshow('src', cpy)\n",
    "cv2.waitKey()\n",
    "\n",
    "for i in range(1, 4):\n",
    "    src = cv2.pyrDown(src)\n",
    "    cpy = src.copy()\n",
    "    cv2.rectangle(cpy, rc, (0, 0, 255), 2, shift=i) \n",
    "    cv2.imshow('src', cpy)\n",
    "    cv2.waitKey()\n",
    "    cv2.destroyWindow('src')\n",
    "    \n",
    "cv2.destroyAllWindows()\n",
    "\n",
    "    \n"
   ]
  }
 ],
 "metadata": {
  "kernelspec": {
   "display_name": "Python 3.9.13 64-bit (microsoft store)",
   "language": "python",
   "name": "python3"
  },
  "language_info": {
   "codemirror_mode": {
    "name": "ipython",
    "version": 3
   },
   "file_extension": ".py",
   "mimetype": "text/x-python",
   "name": "python",
   "nbconvert_exporter": "python",
   "pygments_lexer": "ipython3",
   "version": "3.9.13"
  },
  "orig_nbformat": 4,
  "vscode": {
   "interpreter": {
    "hash": "d7bf8dc84d119a067b15f6c4bcaf3e250daef9f2aba752dcef0089acd9af3fc7"
   }
  }
 },
 "nbformat": 4,
 "nbformat_minor": 2
}
