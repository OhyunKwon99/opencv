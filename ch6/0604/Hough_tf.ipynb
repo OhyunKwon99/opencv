{
 "cells": [
  {
   "cell_type": "code",
   "execution_count": 7,
   "metadata": {},
   "outputs": [
    {
     "name": "stdout",
     "output_type": "stream",
     "text": [
      "(89, 1, 4)\n"
     ]
    }
   ],
   "source": [
    "import sys\n",
    "import numpy as np\n",
    "import cv2\n",
    "\n",
    "src = cv2.imread('building.jpg', cv2.IMREAD_GRAYSCALE)\n",
    "\n",
    "if src is None :\n",
    "    print('Image load failed')\n",
    "    sys.exit()\n",
    "    \n",
    "edge = cv2.Canny(src, 50, 200)\n",
    "## 최대 최소 thershold(픽셀) 값 지정 \n",
    "\n",
    "lines = cv2.HoughLinesP(edge, 1.0, ((np.pi)/180), 160,\n",
    "                        minLineLength= 50, maxLineGap= 5)\n",
    "\n",
    "dst = cv2.cvtColor(edge, cv2.COLOR_GRAY2BGR)\n",
    "\n",
    "if lines is not None:\n",
    "    for i in range(lines.shape[0]):\n",
    "        pt1 = (lines[i][0][0], lines[i][0][1])\n",
    "        pt2 = (lines[i][0][2], lines[i][0][3])\n",
    "        cv2.line(dst, pt1, pt2, (0, 0, 255), 2, cv2.LINE_AA)\n",
    "        \n",
    "cv2.imshow('src', src)\n",
    "cv2.imshow('dst', dst)\n",
    "cv2.waitKey()\n",
    "print(lines.shape)\n",
    "cv2.destroyAllWindows()"
   ]
  },
  {
   "cell_type": "markdown",
   "metadata": {},
   "source": [
    "직선을 검출할때 사용하는 방법"
   ]
  }
 ],
 "metadata": {
  "kernelspec": {
   "display_name": "Python 3.9.13 64-bit (microsoft store)",
   "language": "python",
   "name": "python3"
  },
  "language_info": {
   "codemirror_mode": {
    "name": "ipython",
    "version": 3
   },
   "file_extension": ".py",
   "mimetype": "text/x-python",
   "name": "python",
   "nbconvert_exporter": "python",
   "pygments_lexer": "ipython3",
   "version": "3.9.13"
  },
  "orig_nbformat": 4,
  "vscode": {
   "interpreter": {
    "hash": "d7bf8dc84d119a067b15f6c4bcaf3e250daef9f2aba752dcef0089acd9af3fc7"
   }
  }
 },
 "nbformat": 4,
 "nbformat_minor": 2
}
