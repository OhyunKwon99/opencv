{
 "cells": [
  {
   "cell_type": "code",
   "execution_count": 3,
   "metadata": {},
   "outputs": [],
   "source": [
    "import sys\n",
    "import numpy as np\n",
    "import cv2\n",
    "\n",
    "src = cv2.imread('sudoku.jpg', cv2.IMREAD_GRAYSCALE)\n",
    "\n",
    "if src is None:\n",
    "    print('Image read failed')\n",
    "    sys.exit()\n",
    "    \n",
    "def on_threshold(th):\n",
    "    _, dst1 = cv2.threshold(src, th, maxval = 255, type= cv2.THRESH_BINARY)\n",
    "    cv2.imshow('dst1', dst1)\n",
    "    \n",
    "    \n",
    "cv2.imshow('src',src)\n",
    "cv2.namedWindow('dst1')\n",
    "cv2.createTrackbar('Threshold', 'dst1', 0, 255, on_threshold)\n",
    "cv2.setTrackbarPos('Threshold', 'dst1', 100)\n",
    "\n",
    "cv2.waitKey()\n",
    "cv2.destroyAllWindows()\n"
   ]
  },
  {
   "cell_type": "markdown",
   "metadata": {},
   "source": [
    "하나의 임계값으로 이진화를 할때 영상의 명암으로 인해 전체를 모두 이진화하기 힘듬\n",
    "\n",
    "표면의 조명성분을 보상해줘야함 (shading compensation)\n",
    "\n",
    "or 구역을 나눠서 각각 지역별 임계값을 사용\n"
   ]
  }
 ],
 "metadata": {
  "kernelspec": {
   "display_name": "Python 3.9.13 64-bit (microsoft store)",
   "language": "python",
   "name": "python3"
  },
  "language_info": {
   "codemirror_mode": {
    "name": "ipython",
    "version": 3
   },
   "file_extension": ".py",
   "mimetype": "text/x-python",
   "name": "python",
   "nbconvert_exporter": "python",
   "pygments_lexer": "ipython3",
   "version": "3.9.13"
  },
  "orig_nbformat": 4,
  "vscode": {
   "interpreter": {
    "hash": "d7bf8dc84d119a067b15f6c4bcaf3e250daef9f2aba752dcef0089acd9af3fc7"
   }
  }
 },
 "nbformat": 4,
 "nbformat_minor": 2
}
