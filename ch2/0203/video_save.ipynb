{
 "cells": [
  {
   "cell_type": "code",
   "execution_count": 37,
   "metadata": {},
   "outputs": [],
   "source": [
    "import cv2\n",
    "import sys"
   ]
  },
  {
   "cell_type": "code",
   "execution_count": 38,
   "metadata": {},
   "outputs": [],
   "source": [
    "cap = cv2.VideoCapture(0,cv2.CAP_DSHOW)\n",
    "\n",
    "if not cap.isOpened():\n",
    "    print(\"Camera open failed!\")\n",
    "    sys.exit()\n",
    "\n",
    "w = round(cap.get(cv2.CAP_PROP_FRAME_WIDTH))\n",
    "h = round(cap.get(cv2.CAP_PROP_FRAME_HEIGHT))\n",
    "##get이 반환값이 double 따라서 round로 int형으로 만들어줌\n",
    "\n",
    "fps = 30 ##cap.get(cv2.CAP_PROP_FPS)\n",
    "## 카메라마다 반환값 있을수도 있고 없을수도 있음\n",
    "\n",
    "fourcc = cv2.VideoWriter_fourcc(*'DIVX')\n",
    "## *'DIVX' == 'D', 'I', 'V', 'X'\n"
   ]
  },
  {
   "cell_type": "markdown",
   "metadata": {},
   "source": [
    "\n",
    "(*) 에스터 리스크라는 것은 문자열을 풀어서 쓰는 역할을 하는 것 \n",
    "https://docs.opencv.org/4.6.0/d8/dfe/classcv_1_1VideoCapture.html\n",
    "\n",
    "https://docs.opencv.org/4.6.0/d4/d15/group__videoio__flags__base.html#gga023786be1ee68a9105bf2e48c700294dab6ac3effa04f41ed5470375c85a23504"
   ]
  },
  {
   "cell_type": "code",
   "execution_count": 39,
   "metadata": {},
   "outputs": [],
   "source": [
    "delay = round(1000 / fps)\n",
    "\n",
    "out1 = cv2.VideoWriter('output1.avi', fourcc, fps, (w,h))\n",
    "out2 = cv2.VideoWriter('output2.avi', fourcc, fps, (w,h))\n",
    "\n",
    "if not out1.isOpened():\n",
    "    print('File open failed')\n",
    "    cap.release()\n",
    "    sys.exit()\n",
    "if not out2.isOpened():\n",
    "    print('File open failed')\n",
    "    cap.release()\n",
    "    sys.exit()    \n",
    "    "
   ]
  },
  {
   "cell_type": "markdown",
   "metadata": {},
   "source": [
    "https://docs.opencv.org/4.6.0/d8/dfe/classcv_1_1VideoCapture.html#a9d2ca36789e7fcfe7a7be3b328038585\n",
    "\n",
    "https://docs.opencv.org/4.6.0/d8/dfe/classcv_1_1VideoCapture.html#afb4ab689e553ba2c8f0fec41b9344ae6"
   ]
  },
  {
   "cell_type": "code",
   "execution_count": 1,
   "metadata": {},
   "outputs": [
    {
     "ename": "NameError",
     "evalue": "name 'cap' is not defined",
     "output_type": "error",
     "traceback": [
      "\u001b[1;31m---------------------------------------------------------------------------\u001b[0m",
      "\u001b[1;31mNameError\u001b[0m                                 Traceback (most recent call last)",
      "\u001b[1;32me:\\goh95\\AppData\\Local\\Programs\\opencv\\ch2\\0203\\video_save.ipynb 셀 6\u001b[0m in \u001b[0;36m<cell line: 2>\u001b[1;34m()\u001b[0m\n\u001b[0;32m      <a href='vscode-notebook-cell:/e%3A/goh95/AppData/Local/Programs/opencv/ch2/0203/video_save.ipynb#W4sZmlsZQ%3D%3D?line=0'>1</a>\u001b[0m \u001b[39mwhile\u001b[39;00m \u001b[39mTrue\u001b[39;00m:\n\u001b[1;32m----> <a href='vscode-notebook-cell:/e%3A/goh95/AppData/Local/Programs/opencv/ch2/0203/video_save.ipynb#W4sZmlsZQ%3D%3D?line=1'>2</a>\u001b[0m     state, frame \u001b[39m=\u001b[39m cap\u001b[39m.\u001b[39mread()\n\u001b[0;32m      <a href='vscode-notebook-cell:/e%3A/goh95/AppData/Local/Programs/opencv/ch2/0203/video_save.ipynb#W4sZmlsZQ%3D%3D?line=3'>4</a>\u001b[0m     \u001b[39mif\u001b[39;00m \u001b[39mnot\u001b[39;00m state:\n\u001b[0;32m      <a href='vscode-notebook-cell:/e%3A/goh95/AppData/Local/Programs/opencv/ch2/0203/video_save.ipynb#W4sZmlsZQ%3D%3D?line=4'>5</a>\u001b[0m         \u001b[39mbreak\u001b[39;00m\n",
      "\u001b[1;31mNameError\u001b[0m: name 'cap' is not defined"
     ]
    }
   ],
   "source": [
    "while True:\n",
    "    state, frame = cap.read()\n",
    "\n",
    "    if not state:\n",
    "        break\n",
    "\n",
    "    inversed = ~frame\n",
    "    out1.write(inversed)\n",
    "\n",
    "    edge = cv2.Canny(inversed, 50, 100)\n",
    "\n",
    "    edge_color = cv2.cvtColor(edge, cv2.COLOR_GRAY2BGR)\n",
    "    out2.write(edge_color)\n",
    "\n",
    "    cv2.imshow('frame', frame)\n",
    "    cv2.imshow('inversed', inversed)\n",
    "    cv2.imshow('edge', edge)\n",
    "\n",
    "    if cv2.waitKey(delay) == 27:\n",
    "        break\n",
    "cap.release()\n",
    "out1.release()\n",
    "out2.release()\n",
    "\n",
    "cv2.destroyAllWindows()\n"
   ]
  }
 ],
 "metadata": {
  "kernelspec": {
   "display_name": "Python 3.9.12 ('Pytorch')",
   "language": "python",
   "name": "python3"
  },
  "language_info": {
   "codemirror_mode": {
    "name": "ipython",
    "version": 3
   },
   "file_extension": ".py",
   "mimetype": "text/x-python",
   "name": "python",
   "nbconvert_exporter": "python",
   "pygments_lexer": "ipython3",
   "version": "3.9.12"
  },
  "orig_nbformat": 4,
  "vscode": {
   "interpreter": {
    "hash": "49418117e3467ad040f328a538709f0a31be17b9d7cca48f864682de9e3fed76"
   }
  }
 },
 "nbformat": 4,
 "nbformat_minor": 2
}
