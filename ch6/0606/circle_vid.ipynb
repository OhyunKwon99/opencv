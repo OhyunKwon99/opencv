{
 "cells": [
  {
   "cell_type": "code",
   "execution_count": 17,
   "metadata": {},
   "outputs": [],
   "source": [
    "import sys\n",
    "import cv2\n",
    "import numpy as np\n",
    "\n",
    "def on_trackbar(pos):\n",
    "    global rmin\n",
    "    global rmax\n",
    "    global th \n",
    "    rmin = cv2.getTrackbarPos('minRadius', 'img')\n",
    "    rmax = cv2.getTrackbarPos('maxRadius', 'img')\n",
    "    th = cv2.getTrackbarPos('threshold', 'img')\n",
    "\n",
    "def trackbar_module():\n",
    "    cv2.imshow('img', 0)\n",
    "    cv2.createTrackbar('minRadius', 'img', 0, 100, on_trackbar)\n",
    "    cv2.createTrackbar('maxRadius', 'img', 0, 150, on_trackbar)\n",
    "    cv2.createTrackbar('threshold', 'img', 0, 100, on_trackbar)\n",
    "    cv2.setTrackbarPos('minRadius', 'img', 10)\n",
    "    cv2.setTrackbarPos('maxRadius', 'img', 80)\n",
    "    cv2.setTrackbarPos('threshold', 'img', 40)\n",
    "\n",
    "\n",
    "def detect_circles(frame):\n",
    "    \n",
    "    gray = cv2.cvtColor(frame, cv2.COLOR_BGR2GRAY)\n",
    "    blr = cv2.GaussianBlur(gray, (0, 0), 1)\n",
    "    \n",
    "    circles = cv2.HoughCircles(blr, cv2.HOUGH_GRADIENT, 1, 50,\n",
    "                               param1=150, param2=th, minRadius=rmin, maxRadius=rmax)\n",
    "\n",
    "    dst = frame.copy()\n",
    "    if circles is not None:\n",
    "        for i in range(circles.shape[1]):\n",
    "            cx, cy, radius = (circles[0][i]).astype(dtype = 'uint16')\n",
    "            cv2.circle(dst, (cx, cy), radius, (0, 0, 255), 2, cv2.LINE_AA)\n",
    "    \n",
    "    return dst\n",
    "\n",
    "##############\n",
    "\n",
    "\n",
    "cap = cv2.VideoCapture(0, cv2.CAP_DSHOW)\n",
    "if not cap.isOpened():\n",
    "    print('video open failed')\n",
    "    sys.exit()\n",
    "trackbar_module()    \n",
    "\n",
    "###############\n",
    "\n",
    "while(True):\n",
    "    ret, frame = cap.read()\n",
    "    \n",
    "    if not ret:\n",
    "        break\n",
    "    \n",
    "    dst = detect_circles(frame)\n",
    "    \n",
    "    cv2.imshow('img', frame)\n",
    "    cv2.imshow('img', dst)\n",
    "    \n",
    "    key = cv2.waitKey(1)\n",
    "    if key == 27:\n",
    "        break\n",
    "    \n",
    "cap.release()\n",
    "cv2.destroyAllWindows()\n",
    "   \n",
    "    \n",
    "    "
   ]
  }
 ],
 "metadata": {
  "kernelspec": {
   "display_name": "Python 3.9.13 64-bit (microsoft store)",
   "language": "python",
   "name": "python3"
  },
  "language_info": {
   "codemirror_mode": {
    "name": "ipython",
    "version": 3
   },
   "file_extension": ".py",
   "mimetype": "text/x-python",
   "name": "python",
   "nbconvert_exporter": "python",
   "pygments_lexer": "ipython3",
   "version": "3.9.13"
  },
  "orig_nbformat": 4,
  "vscode": {
   "interpreter": {
    "hash": "d7bf8dc84d119a067b15f6c4bcaf3e250daef9f2aba752dcef0089acd9af3fc7"
   }
  }
 },
 "nbformat": 4,
 "nbformat_minor": 2
}
