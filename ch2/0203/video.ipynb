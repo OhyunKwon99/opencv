{
 "cells": [
  {
   "cell_type": "code",
   "execution_count": 1,
   "metadata": {},
   "outputs": [],
   "source": [
    "import cv2\n",
    "import sys\n"
   ]
  },
  {
   "cell_type": "code",
   "execution_count": null,
   "metadata": {},
   "outputs": [],
   "source": [
    "\n",
    "vid = cv2.VideoCapture('video1.mp4')\n",
    "\n",
    "\n",
    "if not vid.isOpened():\n",
    "    print('camera open failed')\n",
    "    sys.exit()\n",
    "\n",
    "w = vid.get(cv2.CAP_PROP_FRAME_WIDTH)\n",
    "h = vid.get(cv2.CAP_PROP_FRAME_HEIGHT)\n",
    "\n",
    "print (w, h)\n",
    "\n",
    "while True:\n",
    "\n",
    "    state, frames = vid.read()\n",
    "    \n",
    "    if not state:\n",
    "        break\n",
    "\n",
    "    edge = cv2.Canny(frames, 128, 255)\n",
    "    \n",
    "\n",
    "    cv2.imshow('frames', frames)\n",
    "    cv2.imshow('edge', edge)\n",
    "\n",
    "    if cv2.waitKey(20) == 27:\n",
    "        break\n",
    "\n",
    "vid.release()\n",
    "cv2.destroyAllWindows()\n",
    "    \n"
   ]
  }
 ],
 "metadata": {
  "kernelspec": {
   "display_name": "Python 3.9.12 ('Pytorch')",
   "language": "python",
   "name": "python3"
  },
  "language_info": {
   "codemirror_mode": {
    "name": "ipython",
    "version": 3
   },
   "file_extension": ".py",
   "mimetype": "text/x-python",
   "name": "python",
   "nbconvert_exporter": "python",
   "pygments_lexer": "ipython3",
   "version": "3.9.12"
  },
  "orig_nbformat": 4,
  "vscode": {
   "interpreter": {
    "hash": "49418117e3467ad040f328a538709f0a31be17b9d7cca48f864682de9e3fed76"
   }
  }
 },
 "nbformat": 4,
 "nbformat_minor": 2
}
