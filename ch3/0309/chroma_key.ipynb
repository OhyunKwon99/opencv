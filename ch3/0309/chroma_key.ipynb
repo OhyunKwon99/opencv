{
 "cells": [
  {
   "cell_type": "code",
   "execution_count": 1,
   "metadata": {},
   "outputs": [
    {
     "name": "stdout",
     "output_type": "stream",
     "text": [
      "frame_cnt1 -1\n",
      "frame_cnt2 353\n"
     ]
    }
   ],
   "source": [
    "import sys \n",
    "import numpy as np\n",
    "import cv2\n",
    "\n",
    "\n",
    "#녹색 배경 동영상 로드\n",
    "cap1 = cv2.VideoCapture(0) #괄호안에 0이면 노트북 캠으로 대체\n",
    "\n",
    "if not cap1.isOpened():\n",
    "    print('video open failed!')\n",
    "    sys.exit()\n",
    "    \n",
    "    \n",
    "#배경 동영상 로드\n",
    "cap2 = cv2.VideoCapture('raining.mp4')\n",
    "\n",
    "if not cap2.isOpened():\n",
    "    print('video open failed!')\n",
    "    sys.exit()\n",
    "     \n",
    "\n",
    "frame_cnt1 = round(cap1.get(cv2.CAP_PROP_FRAME_COUNT))\n",
    "frame_cnt2 = round(cap2.get(cv2.CAP_PROP_FRAME_COUNT))\n",
    "#프레임 수치 저장\n",
    "print('frame_cnt1', frame_cnt1)\n",
    "print('frame_cnt2', frame_cnt2)\n",
    "\n",
    "w = round(cap1.get(cv2.CAP_PROP_FRAME_WIDTH))\n",
    "h = round(cap1.get(cv2.CAP_PROP_FRAME_HEIGHT))\n",
    "\n",
    "fps = cap1.get(cv2.CAP_PROP_FPS)\n",
    "delay = int(1000/(fps+1.0))\n",
    "\n",
    "\n",
    "#합성여부 플레그\n",
    "do_composit = False\n",
    "\n",
    "#전체 동영상 재생\n",
    "while True:\n",
    "    ret1, frame1 = cap1.read()\n",
    "    \n",
    "    if not ret1: #영상이 모두 재생되면 더이상 불러올 프레임이 없어 break 로 loop탈출\n",
    "        break\n",
    "    \n",
    "    \n",
    "    #합성여부가 True일때만 합성\n",
    "    if do_composit is True:\n",
    "        ret2, frame2 = cap2.read()\n",
    "        \n",
    "        if not ret2:\n",
    "            break #영상이 모두 재생되면 더이상 불러올 프레임이 없어 break 로 loop탈출\n",
    "    \n",
    "        frame2 = cv2.resize(frame2, (w, h))\n",
    "        \n",
    "        #HSV 색공간으로 변환, 녹색영역을 검출하여 합성에 사용\n",
    "        hsv = cv2.cvtColor(frame1, cv2.COLOR_BGR2HSV)\n",
    "        mask = cv2.inRange(hsv, (50, 25, 0), (70, 255, 255))\n",
    "        ## frame1의 mask 부분만 떄서 frame2에 붙힘  \n",
    "        cv2.copyTo(frame2, mask, frame1)\n",
    "        \n",
    "    cv2.imshow('frame',frame1)\n",
    "\n",
    "    #프레임 사이사이 시간을 정확히 계산하여 delay부여\n",
    "    key = cv2.waitKey(delay)\n",
    "    \n",
    "    # 스페이스바로 합성여부 플레그 토글\n",
    "    if key == ord(' '):\n",
    "        do_composit = not do_composit\n",
    "    elif key == 27:\n",
    "        break\n",
    "\n",
    "cap1.release()\n",
    "cap2.release() \n",
    "cv2.destroyAllWindows()   \n",
    "        "
   ]
  },
  {
   "cell_type": "code",
   "execution_count": null,
   "metadata": {},
   "outputs": [],
   "source": []
  },
  {
   "cell_type": "code",
   "execution_count": null,
   "metadata": {},
   "outputs": [],
   "source": [
    "\n"
   ]
  },
  {
   "cell_type": "markdown",
   "metadata": {},
   "source": [
    "합성 과정 이전에 두 동영상의 FPS, 넓이, 폭 같도록 해줘야함\n",
    "\n",
    "아래는 같다고 가정\n"
   ]
  },
  {
   "cell_type": "code",
   "execution_count": null,
   "metadata": {},
   "outputs": [],
   "source": []
  },
  {
   "cell_type": "code",
   "execution_count": null,
   "metadata": {},
   "outputs": [],
   "source": []
  }
 ],
 "metadata": {
  "kernelspec": {
   "display_name": "Python 3.9.13 64-bit (microsoft store)",
   "language": "python",
   "name": "python3"
  },
  "language_info": {
   "codemirror_mode": {
    "name": "ipython",
    "version": 3
   },
   "file_extension": ".py",
   "mimetype": "text/x-python",
   "name": "python",
   "nbconvert_exporter": "python",
   "pygments_lexer": "ipython3",
   "version": "3.9.13"
  },
  "orig_nbformat": 4,
  "vscode": {
   "interpreter": {
    "hash": "d7bf8dc84d119a067b15f6c4bcaf3e250daef9f2aba752dcef0089acd9af3fc7"
   }
  }
 },
 "nbformat": 4,
 "nbformat_minor": 2
}
