{
 "cells": [
  {
   "cell_type": "code",
   "execution_count": 15,
   "metadata": {},
   "outputs": [],
   "source": [
    "import sys\n",
    "import cv2\n",
    "import numpy as np\n",
    "\n",
    "src = cv2.imread('lenna.bmp', cv2.IMREAD_GRAYSCALE)\n",
    "\n",
    "if src is None:\n",
    "    print('Image load failed')\n",
    "    sys.exit()\n",
    "    \n",
    "dx = cv2.Sobel(src, cv2.CV_32F, 1, 0)\n",
    "dy = cv2.Sobel(src, cv2.CV_32F, 0, 1) \n",
    "##magnitude 구하기 위해 4바이트 float 형태로 출력\n",
    "\n",
    "mag = cv2.magnitude(dx, dy)\n",
    "mag = np.clip(mag, 0, 255).astype(np.uint8)\n",
    "##이미지 출력을 위해 uint 형태로 변경\n",
    "###dx, dy 를 따로 출력하면 각각 나타나지 않았던 edge 부분들이\n",
    "####magnitude를 통해 합성해 출력하면 edge 드러남\n",
    "\n",
    "\n",
    "edge = np.zeros(mag.shape[:2], np.uint8)\n",
    "threshold = 70\n",
    "edge[mag > threshold] = 255\n",
    "## mag의 픽셀값이 thershold보다 크면 255 아니면 기존 zero값 유지\n",
    "### threshold 가 낮으면 흐릿한 edge도 판별 되지만 다른 edge들이 너무 두껍게 표현됨\n",
    "\n",
    "cv2.imshow('magnitude', mag)\n",
    "cv2.imshow('edge', edge)\n",
    "cv2.imshow('src', src)\n",
    "\n",
    "if cv2.waitKey() == 27:\n",
    "    cv2.destroyAllWindows()\n"
   ]
  }
 ],
 "metadata": {
  "kernelspec": {
   "display_name": "Python 3.9.13 64-bit (microsoft store)",
   "language": "python",
   "name": "python3"
  },
  "language_info": {
   "codemirror_mode": {
    "name": "ipython",
    "version": 3
   },
   "file_extension": ".py",
   "mimetype": "text/x-python",
   "name": "python",
   "nbconvert_exporter": "python",
   "pygments_lexer": "ipython3",
   "version": "3.9.13"
  },
  "orig_nbformat": 4,
  "vscode": {
   "interpreter": {
    "hash": "d7bf8dc84d119a067b15f6c4bcaf3e250daef9f2aba752dcef0089acd9af3fc7"
   }
  }
 },
 "nbformat": 4,
 "nbformat_minor": 2
}
