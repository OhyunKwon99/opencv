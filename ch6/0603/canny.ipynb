{
 "cells": [
  {
   "cell_type": "code",
   "execution_count": 6,
   "metadata": {},
   "outputs": [],
   "source": [
    "import sys\n",
    "import numpy as np\n",
    "import cv2\n",
    "\n",
    "src = cv2.imread('building.jpg', cv2.IMREAD_GRAYSCALE)\n",
    "\n",
    "if src is None :\n",
    "    print('Image load failed')\n",
    "    sys.exit()\n",
    "    \n",
    "dst = cv2.Canny(src, 100, 200)\n",
    "## 최대 최소 thershold(픽셀) 값 지정 \n",
    "\n",
    "cv2.imshow('src', src)\n",
    "cv2.imshow('dst', dst)\n",
    "cv2.waitKey()\n",
    "\n",
    "cv2.destroyAllWindows()"
   ]
  }
 ],
 "metadata": {
  "kernelspec": {
   "display_name": "Python 3.9.13 64-bit (microsoft store)",
   "language": "python",
   "name": "python3"
  },
  "language_info": {
   "codemirror_mode": {
    "name": "ipython",
    "version": 3
   },
   "file_extension": ".py",
   "mimetype": "text/x-python",
   "name": "python",
   "nbconvert_exporter": "python",
   "pygments_lexer": "ipython3",
   "version": "3.9.13"
  },
  "orig_nbformat": 4,
  "vscode": {
   "interpreter": {
    "hash": "d7bf8dc84d119a067b15f6c4bcaf3e250daef9f2aba752dcef0089acd9af3fc7"
   }
  }
 },
 "nbformat": 4,
 "nbformat_minor": 2
}
