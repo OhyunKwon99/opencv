{
 "cells": [
  {
   "cell_type": "code",
   "execution_count": 1,
   "metadata": {},
   "outputs": [],
   "source": [
    "import sys\n",
    "import numpy as np\n",
    "import cv2"
   ]
  },
  {
   "cell_type": "code",
   "execution_count": 2,
   "metadata": {},
   "outputs": [],
   "source": [
    "#영상 불러오기\n",
    "src = cv2.imread('candies.png', cv2.IMREAD_COLOR)\n",
    "\n",
    "if src is None:\n",
    "    print('Image load failed!')\n",
    "    sys.exit()\n",
    "    "
   ]
  },
  {
   "cell_type": "code",
   "execution_count": 3,
   "metadata": {},
   "outputs": [
    {
     "name": "stdout",
     "output_type": "stream",
     "text": [
      "src.shape: (480, 640, 3)\n",
      "src.dtype: uint8\n"
     ]
    }
   ],
   "source": [
    "print('src.shape:', src.shape)\n",
    "print('src.dtype:', src.dtype)"
   ]
  },
  {
   "cell_type": "markdown",
   "metadata": {},
   "source": [
    "cv2.split(src)를 통해서 각 채널별로 값을 구분할 수 있음(표시는 그레이 스케일로)"
   ]
  },
  {
   "cell_type": "code",
   "execution_count": 5,
   "metadata": {},
   "outputs": [],
   "source": [
    "planes = cv2.split(src)"
   ]
  },
  {
   "cell_type": "code",
   "execution_count": 6,
   "metadata": {},
   "outputs": [],
   "source": [
    "cv2.imshow('src', src)\n",
    "cv2.imshow('plane[0]', planes[0]) ##B\n",
    "cv2.imshow('plane[1]', planes[1]) ##G\n",
    "cv2.imshow('plane[2]', planes[2]) ##R\n",
    "\n",
    "if cv2.waitKey() == 27:\n",
    "    cv2.destroyAllWindows()"
   ]
  },
  {
   "cell_type": "markdown",
   "metadata": {},
   "source": [
    "컬러를 각 색상(BGR) 반영되는 비율(약 3, 6, 1)에 따라 재 조정하면 그레이 스케일이 나온다.\n",
    " \n",
    " "
   ]
  },
  {
   "cell_type": "code",
   "execution_count": null,
   "metadata": {},
   "outputs": [],
   "source": [
    "src_hsv = cv2.cvtColor(src, cv2.COLOR_BGR2HSV)\n",
    "planes = cv2.split(src_hsv)\n",
    "\n",
    "cv2.imshow('src', src)\n",
    "cv2.imshow('Hue', planes[0]) ##B\n",
    "cv2.imshow('Saturation', planes[1]) ##G\n",
    "cv2.imshow('Value', planes[2]) ##R\n",
    "\n",
    "if cv2.waitKey() == 27:\n",
    "    cv2.destroyAllWindows()"
   ]
  }
 ],
 "metadata": {
  "kernelspec": {
   "display_name": "Python 3.9.12 ('Pytorch')",
   "language": "python",
   "name": "python3"
  },
  "language_info": {
   "codemirror_mode": {
    "name": "ipython",
    "version": 3
   },
   "file_extension": ".py",
   "mimetype": "text/x-python",
   "name": "python",
   "nbconvert_exporter": "python",
   "pygments_lexer": "ipython3",
   "version": "3.9.12"
  },
  "orig_nbformat": 4,
  "vscode": {
   "interpreter": {
    "hash": "49418117e3467ad040f328a538709f0a31be17b9d7cca48f864682de9e3fed76"
   }
  }
 },
 "nbformat": 4,
 "nbformat_minor": 2
}
