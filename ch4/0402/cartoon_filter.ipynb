{
 "cells": [
  {
   "cell_type": "code",
   "execution_count": 5,
   "metadata": {},
   "outputs": [],
   "source": [
    "import sys\n",
    "from cv2 import pencilSketch\n",
    "import numpy as np\n",
    "import cv2\n",
    "from matplotlib import pyplot as plt\n",
    "\n",
    "def cartoon_filter(frame):\n",
    "    \n",
    "    h, w = frame.shape[:2]\n",
    "    frame = cv2.resize(frame, (w//2, h//2))\n",
    "    ## bilateralFilter 가 연산량이 많아 많이 느려짐\n",
    "    ## 따라서 원래 프레임 크기를 저장하고 실제 bilateralFilter 에는\n",
    "    ## 반절의 size를 가진 frame 을 넣어 진행 \n",
    "    ## 단순화 과정이기 때문에 작은 frame 크기로 하는것이 연산량, 카툰화 효과에 유리\n",
    "      \n",
    "    \n",
    "    blr = cv2.bilateralFilter(frame, -1, 20, 7)\n",
    "    \n",
    "    edge = 255 - cv2.Canny(frame, 50, 120)\n",
    "    edge = cv2.cvtColor(edge, cv2.COLOR_GRAY2BGR)\n",
    "    \n",
    "    dst = cv2.bitwise_and(blr, edge)\n",
    "    dst = cv2.resize(dst, (w, h))\n",
    "    return dst\n",
    "    \n",
    "    \n",
    "    \n",
    "def pencil_sketch(frame):\n",
    "    gray = cv2.cvtColor(frame, cv2.COLOR_BGR2GRAY)\n",
    "    blr = cv2.GaussianBlur(gray, (0, 0), 3)\n",
    "    dst = cv2.divide(gray, blr, scale = 255)\n",
    "    \n",
    "    dst = cv2.cvtColor(dst, cv2.COLOR_GRAY2RGB)\n",
    "    return dst\n",
    "    \n",
    "cap = cv2.VideoCapture(0, cv2.CAP_DSHOW)\n",
    "\n",
    "if not cap.isOpened():\n",
    "    print('video open failed')\n",
    "    sys.exit()\n",
    "\n",
    "cam_mode = 0\n",
    "\n",
    "while(True):\n",
    "    ret, frame = cap.read()\n",
    "    \n",
    "    if not ret:\n",
    "        break\n",
    "    if cam_mode == 1:\n",
    "        ##cartoon\n",
    "        frame = cartoon_filter(frame)\n",
    "    elif cam_mode == 2:\n",
    "        frame = pencil_sketch(frame)\n",
    "        \n",
    "    \n",
    "    cv2.imshow('frame', frame)\n",
    "    key = cv2.waitKey(1)\n",
    "    \n",
    "    if key == 27:\n",
    "        break\n",
    "    elif key == ord(' '):\n",
    "        cam_mode += 1\n",
    "        if cam_mode == 3:\n",
    "            cam_mode = 0\n",
    "    \n",
    "    \n",
    "        \n",
    "        ##sketch\n",
    "cap.release()\n",
    "cv2.destroyAllWindows()\n",
    "\n"
   ]
  },
  {
   "cell_type": "code",
   "execution_count": null,
   "metadata": {},
   "outputs": [],
   "source": []
  }
 ],
 "metadata": {
  "kernelspec": {
   "display_name": "Python 3.9.12 ('base')",
   "language": "python",
   "name": "python3"
  },
  "language_info": {
   "codemirror_mode": {
    "name": "ipython",
    "version": 3
   },
   "file_extension": ".py",
   "mimetype": "text/x-python",
   "name": "python",
   "nbconvert_exporter": "python",
   "pygments_lexer": "ipython3",
   "version": "3.9.12"
  },
  "orig_nbformat": 4,
  "vscode": {
   "interpreter": {
    "hash": "49cb93f377a7abe7414b7b0f21fb3017538004a126cf690fb524202736b7fb92"
   }
  }
 },
 "nbformat": 4,
 "nbformat_minor": 2
}
