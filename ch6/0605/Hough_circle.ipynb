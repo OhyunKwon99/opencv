{
 "cells": [
  {
   "cell_type": "code",
   "execution_count": 3,
   "metadata": {},
   "outputs": [
    {
     "ename": "error",
     "evalue": "OpenCV(4.6.0) D:\\a\\opencv-python\\opencv-python\\opencv\\modules\\imgproc\\src\\hough.cpp:2270: error: (-211:One of the arguments' values is out of range) acc_threshold must be a positive number in function 'cv::HoughCircles'\n",
     "output_type": "error",
     "traceback": [
      "\u001b[1;31m---------------------------------------------------------------------------\u001b[0m",
      "\u001b[1;31merror\u001b[0m                                     Traceback (most recent call last)",
      "Cell \u001b[1;32mIn [3], line 22\u001b[0m, in \u001b[0;36mon_trackbar\u001b[1;34m(pos)\u001b[0m\n\u001b[0;32m     19\u001b[0m rmax \u001b[39m=\u001b[39m cv2\u001b[39m.\u001b[39mgetTrackbarPos(\u001b[39m'\u001b[39m\u001b[39mmaxRadius\u001b[39m\u001b[39m'\u001b[39m, \u001b[39m'\u001b[39m\u001b[39mimg\u001b[39m\u001b[39m'\u001b[39m)\n\u001b[0;32m     20\u001b[0m th \u001b[39m=\u001b[39m cv2\u001b[39m.\u001b[39mgetTrackbarPos(\u001b[39m'\u001b[39m\u001b[39mthreshold\u001b[39m\u001b[39m'\u001b[39m, \u001b[39m'\u001b[39m\u001b[39mimg\u001b[39m\u001b[39m'\u001b[39m)\n\u001b[1;32m---> 22\u001b[0m circles \u001b[39m=\u001b[39m cv2\u001b[39m.\u001b[39;49mHoughCircles(blr, cv2\u001b[39m.\u001b[39;49mHOUGH_GRADIENT, \u001b[39m1\u001b[39;49m, \u001b[39m50\u001b[39;49m,\n\u001b[0;32m     23\u001b[0m                            param1\u001b[39m=\u001b[39;49m\u001b[39m120\u001b[39;49m, param2\u001b[39m=\u001b[39;49mth, minRadius\u001b[39m=\u001b[39;49mrmin, maxRadius\u001b[39m=\u001b[39;49mrmax)\n\u001b[0;32m     25\u001b[0m dst \u001b[39m=\u001b[39m src\u001b[39m.\u001b[39mcopy()\n\u001b[0;32m     26\u001b[0m \u001b[39mif\u001b[39;00m circles \u001b[39mis\u001b[39;00m \u001b[39mnot\u001b[39;00m \u001b[39mNone\u001b[39;00m:\n",
      "\u001b[1;31merror\u001b[0m: OpenCV(4.6.0) D:\\a\\opencv-python\\opencv-python\\opencv\\modules\\imgproc\\src\\hough.cpp:2270: error: (-211:One of the arguments' values is out of range) acc_threshold must be a positive number in function 'cv::HoughCircles'\n"
     ]
    },
    {
     "ename": "error",
     "evalue": "OpenCV(4.6.0) D:\\a\\opencv-python\\opencv-python\\opencv\\modules\\imgproc\\src\\hough.cpp:2270: error: (-211:One of the arguments' values is out of range) acc_threshold must be a positive number in function 'cv::HoughCircles'\n",
     "output_type": "error",
     "traceback": [
      "\u001b[1;31m---------------------------------------------------------------------------\u001b[0m",
      "\u001b[1;31merror\u001b[0m                                     Traceback (most recent call last)",
      "Cell \u001b[1;32mIn [3], line 22\u001b[0m, in \u001b[0;36mon_trackbar\u001b[1;34m(pos)\u001b[0m\n\u001b[0;32m     19\u001b[0m rmax \u001b[39m=\u001b[39m cv2\u001b[39m.\u001b[39mgetTrackbarPos(\u001b[39m'\u001b[39m\u001b[39mmaxRadius\u001b[39m\u001b[39m'\u001b[39m, \u001b[39m'\u001b[39m\u001b[39mimg\u001b[39m\u001b[39m'\u001b[39m)\n\u001b[0;32m     20\u001b[0m th \u001b[39m=\u001b[39m cv2\u001b[39m.\u001b[39mgetTrackbarPos(\u001b[39m'\u001b[39m\u001b[39mthreshold\u001b[39m\u001b[39m'\u001b[39m, \u001b[39m'\u001b[39m\u001b[39mimg\u001b[39m\u001b[39m'\u001b[39m)\n\u001b[1;32m---> 22\u001b[0m circles \u001b[39m=\u001b[39m cv2\u001b[39m.\u001b[39;49mHoughCircles(blr, cv2\u001b[39m.\u001b[39;49mHOUGH_GRADIENT, \u001b[39m1\u001b[39;49m, \u001b[39m50\u001b[39;49m,\n\u001b[0;32m     23\u001b[0m                            param1\u001b[39m=\u001b[39;49m\u001b[39m120\u001b[39;49m, param2\u001b[39m=\u001b[39;49mth, minRadius\u001b[39m=\u001b[39;49mrmin, maxRadius\u001b[39m=\u001b[39;49mrmax)\n\u001b[0;32m     25\u001b[0m dst \u001b[39m=\u001b[39m src\u001b[39m.\u001b[39mcopy()\n\u001b[0;32m     26\u001b[0m \u001b[39mif\u001b[39;00m circles \u001b[39mis\u001b[39;00m \u001b[39mnot\u001b[39;00m \u001b[39mNone\u001b[39;00m:\n",
      "\u001b[1;31merror\u001b[0m: OpenCV(4.6.0) D:\\a\\opencv-python\\opencv-python\\opencv\\modules\\imgproc\\src\\hough.cpp:2270: error: (-211:One of the arguments' values is out of range) acc_threshold must be a positive number in function 'cv::HoughCircles'\n"
     ]
    }
   ],
   "source": [
    "import sys\n",
    "import numpy as np\n",
    "import cv2\n",
    "\n",
    "\n",
    "# 입력 이미지 불러오기\n",
    "src = cv2.imread('dial.jpg')\n",
    "\n",
    "if src is None:\n",
    "    print('Image open failed!')\n",
    "    sys.exit()\n",
    "\n",
    "gray = cv2.cvtColor(src, cv2.COLOR_BGR2GRAY)\n",
    "blr = cv2.GaussianBlur(gray, (0, 0), 1.0)\n",
    "\n",
    "\n",
    "def on_trackbar(pos):\n",
    "    rmin = cv2.getTrackbarPos('minRadius', 'img')\n",
    "    rmax = cv2.getTrackbarPos('maxRadius', 'img')\n",
    "    th = cv2.getTrackbarPos('threshold', 'img')\n",
    "\n",
    "    circles = cv2.HoughCircles(blr, cv2.HOUGH_GRADIENT, 1, 50,\n",
    "                               param1=120, param2=th, minRadius=rmin, maxRadius=rmax)\n",
    "\n",
    "    dst = src.copy()\n",
    "    if circles is not None:\n",
    "        for i in range(circles.shape[1]):\n",
    "            cx, cy, radius = (circles[0][i]).astype(dtype = 'uint16')\n",
    "            cv2.circle(dst, (cx, cy), radius, (0, 0, 255), 2, cv2.LINE_AA)\n",
    "\n",
    "    cv2.imshow('img', dst)\n",
    "\n",
    "\n",
    "# 트랙바 생성\n",
    "cv2.imshow('img', src)\n",
    "cv2.createTrackbar('minRadius', 'img', 0, 100, on_trackbar)\n",
    "cv2.createTrackbar('maxRadius', 'img', 0, 150, on_trackbar)\n",
    "cv2.createTrackbar('threshold', 'img', 0, 100, on_trackbar)\n",
    "cv2.setTrackbarPos('minRadius', 'img', 10)\n",
    "cv2.setTrackbarPos('maxRadius', 'img', 80)\n",
    "cv2.setTrackbarPos('threshold', 'img', 40)\n",
    "cv2.waitKey()\n",
    "\n",
    "cv2.destroyAllWindows()\n"
   ]
  },
  {
   "cell_type": "markdown",
   "metadata": {},
   "source": [
    "블러링으로 원 영상을 약간 블러 하는것도 중요"
   ]
  }
 ],
 "metadata": {
  "kernelspec": {
   "display_name": "Python 3.9.13 64-bit (microsoft store)",
   "language": "python",
   "name": "python3"
  },
  "language_info": {
   "codemirror_mode": {
    "name": "ipython",
    "version": 3
   },
   "file_extension": ".py",
   "mimetype": "text/x-python",
   "name": "python",
   "nbconvert_exporter": "python",
   "pygments_lexer": "ipython3",
   "version": "3.9.13"
  },
  "orig_nbformat": 4,
  "vscode": {
   "interpreter": {
    "hash": "d7bf8dc84d119a067b15f6c4bcaf3e250daef9f2aba752dcef0089acd9af3fc7"
   }
  }
 },
 "nbformat": 4,
 "nbformat_minor": 2
}
