{
 "cells": [
  {
   "cell_type": "code",
   "execution_count": 17,
   "metadata": {},
   "outputs": [],
   "source": [
    "from enum import Flag\n",
    "import sys\n",
    "import cv2\n",
    "import numpy as np\n",
    "\n",
    "##src = cv2.imread('rose.bmp')\n",
    "src = cv2.VideoCapture(0,cv2.CAP_DSHOW)\n",
    "flag = False\n",
    "while(True):\n",
    "\n",
    "    ret, frame = src.read()\n",
    "    if src is None:\n",
    "        print('Image load failed')\n",
    "    \n",
    "    if cv2.waitKey(13) == 27:\n",
    "        flag = ~flag\n",
    "    \n",
    "    \n",
    "    if flag == False:\n",
    "        frame = cv2.flip(frame, 1)\n",
    "    \n",
    "    \n",
    "    \n",
    "    src_ycrcb = cv2.cvtColor(frame, cv2.COLOR_BGR2YCrCb)\n",
    "    \n",
    "    src_f = src_ycrcb[:, :, 0].astype(np.float32)\n",
    "    blr = cv2.GaussianBlur(src_f, (0,0), 2.0)\n",
    "    src_ycrcb[:, :, 0] = np.clip(2.0*src_f - blr, 0, 255).astype(np.uint8)\n",
    "    ##0~255 로 표시하기 위해서 소수점 버려지는것은 피하기 힘들다\n",
    "\n",
    "    #   #따라서 계산과정에서는 최대한 실수형 계산을 하고 마지막 출력전에 uint8 형태로 소수점 정리하여 표시한다.\n",
    "    dst = cv2.cvtColor(src_ycrcb, cv2.COLOR_YCrCb2BGR)\n",
    "\n",
    "    cv2.imshow('frame', frame)\n",
    "    cv2.imshow('dst', dst)\n",
    "    \n",
    "    if cv2.waitKey(1) == 13:\n",
    "        break\n",
    "         \n",
    "  \n",
    "\n",
    "src.release()\n",
    "cv2.destroyAllWindows()\n",
    "\n",
    "\n"
   ]
  }
 ],
 "metadata": {
  "kernelspec": {
   "display_name": "Python 3.9.12 ('base')",
   "language": "python",
   "name": "python3"
  },
  "language_info": {
   "codemirror_mode": {
    "name": "ipython",
    "version": 3
   },
   "file_extension": ".py",
   "mimetype": "text/x-python",
   "name": "python",
   "nbconvert_exporter": "python",
   "pygments_lexer": "ipython3",
   "version": "3.9.12"
  },
  "orig_nbformat": 4,
  "vscode": {
   "interpreter": {
    "hash": "49cb93f377a7abe7414b7b0f21fb3017538004a126cf690fb524202736b7fb92"
   }
  }
 },
 "nbformat": 4,
 "nbformat_minor": 2
}
