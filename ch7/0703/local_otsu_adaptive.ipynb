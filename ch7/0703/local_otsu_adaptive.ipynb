{
 "cells": [
  {
   "cell_type": "code",
   "execution_count": 10,
   "metadata": {},
   "outputs": [
    {
     "name": "stdout",
     "output_type": "stream",
     "text": [
      "(563, 558)\n"
     ]
    }
   ],
   "source": [
    "import sys\n",
    "import cv2\n",
    "import numpy as np\n",
    "\n",
    "src = cv2.imread('sudoku.jpg.', cv2.IMREAD_GRAYSCALE)\n",
    "\n",
    "if src is None:\n",
    "    print('Image load failed')\n",
    "    sys.exit()\n",
    "\n",
    "\n",
    "print(src.shape)\n",
    "##전체 이진화    \n",
    "_, dst1 = cv2.threshold(src, 0, 255, cv2.THRESH_BINARY | cv2.THRESH_OTSU)\n",
    "\n",
    "\n",
    "##지역이진화\n",
    "\n",
    "dst2 = np.zeros(src.shape, np.uint8)\n",
    "\n",
    "bw = src.shape[1] // 4\n",
    "bh = src.shape[0] // 4\n",
    "\n",
    "for y in range(4):\n",
    "    for x in range(4):\n",
    "        src_ = src[y*bw:(y+1)*bw, x*bh:(x+1)*bh]\n",
    "        dst_ = dst2[y*bw:(y+1)*bw, x*bh:(x+1)*bh]\n",
    "        ## copy 하지않았기 때문에 dst2는 dst_와 픽셀data 공유\n",
    "        cv2.threshold(src_, 0, 255, cv2.THRESH_BINARY | cv2.THRESH_OTSU, dst_)\n",
    "        ##_, dst_로 받게 되면 기존의 위치 data를 지우고 새로 선언하는거라 \n",
    "        ### 그걸 방지하기 위해 함수내에 인자로 dst_준다\n",
    "        \n",
    "cv2.imshow('src', src)\n",
    "cv2.imshow('dst1', dst1) ## 전역이진화 임계값 하나뿐이라 균일한 이진화 불가\n",
    "cv2.imshow('dst2', dst2) ## 지역이진화 임계값 다양, 약간더 세밀한 이진화 가능\n",
    "\n",
    "cv2.waitKey()\n",
    "cv2.destroyAllWindows()"
   ]
  },
  {
   "cell_type": "markdown",
   "metadata": {},
   "source": [
    "adaptiveThreshold 는 약간더 결과가 좋은 지역이진화 기법(지역마다 블러링 진행)"
   ]
  },
  {
   "cell_type": "code",
   "execution_count": 9,
   "metadata": {},
   "outputs": [
    {
     "name": "stdout",
     "output_type": "stream",
     "text": [
      "(563, 558)\n"
     ]
    },
    {
     "ename": "error",
     "evalue": "OpenCV(4.6.0) D:\\a\\opencv-python\\opencv-python\\opencv\\modules\\highgui\\src\\window.cpp:862: error: (-215:Assertion failed) trackbar in function 'cv::getTrackbarPos'\n",
     "output_type": "error",
     "traceback": [
      "\u001b[1;31m---------------------------------------------------------------------------\u001b[0m",
      "\u001b[1;31merror\u001b[0m                                     Traceback (most recent call last)",
      "Cell \u001b[1;32mIn [9], line 15\u001b[0m, in \u001b[0;36mon_trackbar\u001b[1;34m(pos)\u001b[0m\n\u001b[0;32m     13\u001b[0m \u001b[39mglobal\u001b[39;00m c\n\u001b[0;32m     14\u001b[0m b_size \u001b[39m=\u001b[39m cv2\u001b[39m.\u001b[39mgetTrackbarPos(\u001b[39m'\u001b[39m\u001b[39mBlocksize\u001b[39m\u001b[39m'\u001b[39m, \u001b[39m'\u001b[39m\u001b[39mdst\u001b[39m\u001b[39m'\u001b[39m)\n\u001b[1;32m---> 15\u001b[0m c \u001b[39m=\u001b[39m cv2\u001b[39m.\u001b[39;49mgetTrackbarPos(\u001b[39m'\u001b[39;49m\u001b[39mC\u001b[39;49m\u001b[39m'\u001b[39;49m, \u001b[39m'\u001b[39;49m\u001b[39mdst\u001b[39;49m\u001b[39m'\u001b[39;49m)\n\u001b[0;32m     16\u001b[0m \u001b[39mif\u001b[39;00m b_size \u001b[39m%\u001b[39m \u001b[39m2\u001b[39m \u001b[39m==\u001b[39m \u001b[39m0\u001b[39m:\n\u001b[0;32m     17\u001b[0m     b_size \u001b[39m=\u001b[39m b_size \u001b[39m-\u001b[39m \u001b[39m1\u001b[39m\n",
      "\u001b[1;31merror\u001b[0m: OpenCV(4.6.0) D:\\a\\opencv-python\\opencv-python\\opencv\\modules\\highgui\\src\\window.cpp:862: error: (-215:Assertion failed) trackbar in function 'cv::getTrackbarPos'\n"
     ]
    }
   ],
   "source": [
    "import sys\n",
    "import cv2\n",
    "import numpy as np\n",
    "\n",
    "src = cv2.imread('sudoku.jpg.', cv2.IMREAD_GRAYSCALE)\n",
    "\n",
    "if src is None:\n",
    "    print('Image load failed')\n",
    "    sys.exit()\n",
    "\n",
    "def on_trackbar(pos):\n",
    "    global b_size\n",
    "    global c\n",
    "    b_size = cv2.getTrackbarPos('Blocksize', 'dst')\n",
    "    c = cv2.getTrackbarPos('C', 'dst')\n",
    "    if b_size % 2 == 0:\n",
    "        b_size = b_size - 1\n",
    "    if b_size < 3:\n",
    "        b_size = 3\n",
    "        \n",
    "    dst = cv2.adaptiveThreshold(src, 255, cv2.ADAPTIVE_THRESH_GAUSSIAN_C,\n",
    "                            cv2.THRESH_BINARY, b_size, c)\n",
    "    cv2.imshow('dst', dst)\n",
    "\n",
    "    \n",
    "    \n",
    "def trackbar_module():\n",
    "    cv2.imshow('dst', 0)\n",
    "    cv2.createTrackbar('Blocksize', 'dst', 3, 255, on_trackbar)\n",
    "    cv2.createTrackbar('C', 'dst', 0, 255, on_trackbar)\n",
    "    cv2.setTrackbarPos('Blocksize', 'dst', 11)\n",
    "    cv2.setTrackbarPos('C', 'dst', 5)\n",
    "\n",
    "print(src.shape)\n",
    "\n",
    "trackbar_module()\n",
    "\n",
    "\n",
    "\n",
    "cv2.waitKey()\n",
    "cv2.destroyAllWindows()\n",
    "\n"
   ]
  },
  {
   "cell_type": "markdown",
   "metadata": {},
   "source": [
    "블럭 사이즈를 조절하는데 이때 조절한 블럭안에 객체는 없고 배경만 있을때 지저분한 점들이 나타날 수 있음\n",
    "\n",
    "그리고 블러링 과정이 있으므로 좀 느림"
   ]
  }
 ],
 "metadata": {
  "kernelspec": {
   "display_name": "Python 3.9.13 64-bit (microsoft store)",
   "language": "python",
   "name": "python3"
  },
  "language_info": {
   "codemirror_mode": {
    "name": "ipython",
    "version": 3
   },
   "file_extension": ".py",
   "mimetype": "text/x-python",
   "name": "python",
   "nbconvert_exporter": "python",
   "pygments_lexer": "ipython3",
   "version": "3.9.13"
  },
  "orig_nbformat": 4,
  "vscode": {
   "interpreter": {
    "hash": "d7bf8dc84d119a067b15f6c4bcaf3e250daef9f2aba752dcef0089acd9af3fc7"
   }
  }
 },
 "nbformat": 4,
 "nbformat_minor": 2
}
